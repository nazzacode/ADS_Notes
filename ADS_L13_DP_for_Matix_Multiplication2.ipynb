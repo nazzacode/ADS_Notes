{
 "cells": [
  {
   "cell_type": "markdown",
   "metadata": {
    "jupyter": {
     "source_hidden": true
    }
   },
   "source": [
    "# Algorithms and Data Structures\n",
    "Nathan Sharp | October 2020\n",
    "***\n",
    "\n",
    "# Lecture 13: Dynamic Programming for Matix Multiplication 2"
   ]
  },
  {
   "cell_type": "markdown",
   "metadata": {},
   "source": [
    ">## The Matrix Chain Multiplication Problem\n",
    ">\n",
    ">What is the optimal number of multiplications needed to calulate $A_1 \\cdot A_2, \\cdots A_n$ and an optimal parenthisation to realise this"
   ]
  },
  {
   "cell_type": "markdown",
   "metadata": {},
   "source": [
    "## Solution Attempts"
   ]
  },
  {
   "cell_type": "markdown",
   "metadata": {},
   "source": [
    "- Exhaustive search: Correct byt slow\n",
    "- Greedy: e.g. always do the cheapest first -> Incorrect\n",
    "  - counter example: (3,100)(100,2)(2,2)\n",
    "- Divide and Couquer: Divide $(A_1, \\cdots, A_k) (A_{k+1}, \\cdots, A_n)$ for all k -> Slow af."
   ]
  },
  {
   "cell_type": "markdown",
   "metadata": {},
   "source": [
    "## Dynamic Programming Solution"
   ]
  },
  {
   "cell_type": "markdown",
   "metadata": {},
   "source": [
    "$m[i,j]$ = the leat number of multiplications needed to compute $A_i, \\cdots, A_j$.\\\n",
    "$s[i,j]$ = the smallest $k$ such that $i < k < j$ and $m[i,j] = m[i,k] - m[k-1,j] + p_{i-1} \\cdot p_k \\cdot p_j$.\n",
    "\n",
    "where the 'p's' represent the effort to multiply the two subproblems"
   ]
  },
  {
   "cell_type": "markdown",
   "metadata": {},
   "source": [
    "## Pseudocode"
   ]
  },
  {
   "cell_type": "markdown",
   "metadata": {},
   "source": [
    "![title](./Images/matrix_chain_alg.png)"
   ]
  },
  {
   "cell_type": "markdown",
   "metadata": {},
   "source": [
    "![title](./Images/matrix_chain_example.png)"
   ]
  },
  {
   "cell_type": "markdown",
   "metadata": {},
   "source": [
    "## Notes "
   ]
  },
  {
   "cell_type": "markdown",
   "metadata": {},
   "source": [
    "- table 'm' is read diagonally down by iteration\n",
    "- table 's' accounts for the optimal split position (represented by the dots)\n",
    "- the omtimal split posotion places brackets in reverse to do the most optimal split last"
   ]
  },
  {
   "cell_type": "markdown",
   "metadata": {},
   "source": [
    "## Runtime Analysis"
   ]
  },
  {
   "cell_type": "markdown",
   "metadata": {},
   "source": [
    "$\\Theta (n^3)$\n",
    "\n",
    "Upper bound: 3 nested loops of size n (loop at line 4 is trivial)\\\n",
    "Lower bound: "
   ]
  },
  {
   "cell_type": "code",
   "execution_count": null,
   "metadata": {},
   "outputs": [],
   "source": []
  }
 ],
 "metadata": {
  "kernelspec": {
   "display_name": "Python3 - python",
   "language": "python",
   "name": "ipython_python"
  },
  "language_info": {
   "codemirror_mode": {
    "name": "ipython",
    "version": 3
   },
   "file_extension": ".py",
   "mimetype": "text/x-python",
   "name": "python",
   "nbconvert_exporter": "python",
   "pygments_lexer": "ipython3",
   "version": "3.7.7"
  }
 },
 "nbformat": 4,
 "nbformat_minor": 4
}
