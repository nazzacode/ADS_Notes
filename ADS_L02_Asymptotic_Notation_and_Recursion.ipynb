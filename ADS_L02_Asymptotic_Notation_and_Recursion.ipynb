{
 "cells": [
  {
   "cell_type": "markdown",
   "metadata": {},
   "source": [
    "Nathan Sharp | September 2020\n",
    "***"
   ]
  },
  {
   "cell_type": "markdown",
   "metadata": {},
   "source": [
    "# Lecture 2: Asymptotic Notation and Recursion"
   ]
  },
  {
   "cell_type": "markdown",
   "metadata": {},
   "source": [
    "## Asymptotic Growth Rates"
   ]
  },
  {
   "cell_type": "markdown",
   "metadata": {},
   "source": [
    "Let $g: \\mathbb{N} \\rightarrow \\mathbb{R}$\n",
    "\n",
    "__O Notation__\n",
    "  : $O(g)$ is the set of all functions $f : \\mathbb{N} \\rightarrow \\mathbb{R}$ for which there are constants $c > 0$ and $n_0 \\geq 0$ such that:\n",
    " \n",
    "  $$ 0 \\leq f(n) \\leq c \\cdot g(n), \\forall n \\geq n_0 $$\n",
    "\n",
    "*Intuition:* Rate of change of $f(n)$ is at most that of $g(n)$."
   ]
  },
  {
   "cell_type": "markdown",
   "metadata": {},
   "source": [
    "__$\\Omega$ Notation__\n",
    "  : $\\Omega (g)$ is the set of all functions $f : \\mathbb{N} \\rightarrow \\mathbb{R}$ for which there are constants $c > 0$ and $n_0 \\geq 0$ such that:\n",
    "  \n",
    "  $$ 0 \\leq c \\cdot g(n) \\leq f(n), \\forall n \\geq n_0 $$\n",
    "\n",
    "*Intuition:* Rate of change of $f(n)$ is at least that of $g(n)$"
   ]
  },
  {
   "cell_type": "markdown",
   "metadata": {},
   "source": [
    "__$\\Theta$ Notation__\n",
    "  : $\\Theta (g)$ is the set of all functions $f : \\mathbb{N} \\rightarrow \\mathbb{R}$ for which thre are constants $c_1, c_2 > 0$ and $n_0 \\geq 0$ such that:\n",
    "  \n",
    "  $$ 0 \\leq c_1 \\cdot g(n) \\leq f(n) \\leq c_2 \\cdot g(n), \\forall n \\geq n_0 $$\n",
    "  \n",
    "*Intuition:* Rate of change of $f(n)$ and $g(n)$ are roughly equivalent"
   ]
  },
  {
   "cell_type": "markdown",
   "metadata": {},
   "source": [
    "## Solving Recurrences"
   ]
  },
  {
   "cell_type": "markdown",
   "metadata": {},
   "source": [
    "Methods for deriving/verifying solutions to recurrences:\n",
    "\n",
    "__Induction__\n",
    "  : Guess the solution and verify by induction. (Nice if workable, but rare)\n",
    "  "
   ]
  },
  {
   "cell_type": "markdown",
   "metadata": {},
   "source": [
    "__Unfold and Sum__\n",
    "  : 'Unfold' the recurrence by iterated substitution on 'neat' values of $n$ (often power of 2 case). At some point a pattern emerges. The solution is obtaine by evaluating a sum that arises from the pattern. Since the pattern is just for the 'neat' $n$, the method is regorous only if we verify the solution (e.g. by a direct induction proof). Often in practice the way to do the proof is to relate to the 'neat' values in some way.\n",
    " 1. Prove exact expression for the 'neat' version\n",
    " 2. Prove that the equality version of the recurrence os monotone increasing; ie that we have $T'(n) \\leq T'(m)$ for all $n$, $m$ with $n < m$.\n",
    " 3. For 'non-neat' $n$ chose a close by $\\hat{n}$ ($n+$ for  upper bound $O$, $n-$ for lower bound $\\Omega$). Then apply monotonicity (2) to show a relationship between $T'(n)$ and $T'(\\hat{n})$, and finally substitute the eact expression (from (1)) to $T'(\\hat{n})$ to work out a bound for $T'(n)$. "
   ]
  },
  {
   "cell_type": "markdown",
   "metadata": {},
   "source": [
    " \n",
    "__Master Theorem__\n",
    "  : Match the recurrence against a template. Read off the solution from the Master Theorem."
   ]
  }
 ],
 "metadata": {
  "kernelspec": {
   "display_name": "Python 3",
   "language": "python",
   "name": "python3"
  },
  "language_info": {
   "codemirror_mode": {
    "name": "ipython",
    "version": 3
   },
   "file_extension": ".py",
   "mimetype": "text/x-python",
   "name": "python",
   "nbconvert_exporter": "python",
   "pygments_lexer": "ipython3",
   "version": "3.7.7"
  }
 },
 "nbformat": 4,
 "nbformat_minor": 4
}
