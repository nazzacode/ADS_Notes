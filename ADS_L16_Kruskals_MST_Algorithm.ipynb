{
 "cells": [
  {
   "cell_type": "markdown",
   "metadata": {},
   "source": [
    "# Algorithms and Data Structures\n",
    "Nathan Sharp | October 2020\n",
    "***\n",
    "\n",
    "# Lecture 16: Kruskals Algorithm for a Minimum Spanning Trees "
   ]
  },
  {
   "cell_type": "markdown",
   "metadata": {},
   "source": [
    "__Forest__ a graph whose connected components are trees\n",
    "\n",
    "_Intuition:_ Starting from a spanning forest with no edges, repeatedly add edges of minimum weight until the forest becomes a tree."
   ]
  },
  {
   "cell_type": "markdown",
   "metadata": {},
   "source": [
    "### Pseudocode 1"
   ]
  },
  {
   "cell_type": "markdown",
   "metadata": {},
   "source": [
    "<img src=\"./Images/kruskals_alg.png\" width=\"500\">"
   ]
  },
  {
   "cell_type": "markdown",
   "metadata": {},
   "source": [
    "__Disjoint Set__ data structure consisting of dynamic sets where eahc set is identified by some representative element.\n",
    "  - `Make-Set(x)` creates new set with member `x`\n",
    "  - `Union(x,y)` Unites set `Sx` conataining `x` and set `Sy` containing `y` into a new set `S` removing `Sx` and `Sy` from the collection.\n",
    "  - `Find-Set(x)` Returns the representative of the set holding `x`\n",
    "  "
   ]
  },
  {
   "cell_type": "markdown",
   "metadata": {},
   "source": [
    "Correctness: Quite obvious."
   ]
  },
  {
   "cell_type": "markdown",
   "metadata": {},
   "source": [
    "### Pseudocode 2 "
   ]
  },
  {
   "cell_type": "markdown",
   "metadata": {},
   "source": [
    "<img src=\"Images/kruskals_alg2.png\" width=\"600\">"
   ]
  },
  {
   "cell_type": "markdown",
   "metadata": {},
   "source": [
    "### Runtime Analysis"
   ]
  },
  {
   "cell_type": "markdown",
   "metadata": {},
   "source": [
    "- Line 1 is $\\Theta(1)$\n",
    "- Loop lines 2-3 is $\\Theta(n \\cdot T_{MakeSet}(n))$\n",
    "- Line 4 is $\\Theta(m \\log(m))$\n",
    "- Loop line 5-8 is $\\Theta(2m \\cdot T_{FindSet}(n) + (n-1) \\cdot T_{Union}(n))$\n",
    "- Line 9 is $\\Theta(1)$\n",
    "\n",
    "Overall,\n",
    "$$\\underline{\\Theta(nT_{MakeSet}(n) + nT_{union} + m(\\log(m) + T_{FindSet}(n)))}$$\n"
   ]
  },
  {
   "cell_type": "markdown",
   "metadata": {},
   "source": [
    "### Linked List Implementation of Disjoint Sets"
   ]
  },
  {
   "cell_type": "markdown",
   "metadata": {},
   "source": [
    "- each element has a pointer to the head of its set and the next elemet \n",
    "- each set has a pointer from the head to the last element"
   ]
  },
  {
   "cell_type": "markdown",
   "metadata": {},
   "source": [
    "#### Runtime of Disjoint Set Operations"
   ]
  },
  {
   "cell_type": "markdown",
   "metadata": {},
   "source": [
    "`Make-Set(x)` : $\\Theta(1)$\n",
    "\n",
    "`Find-Set` : $\\Theta(1)$\n",
    "\n",
    "`Union(x,y)` :  $\\Theta(length($ `x` $)$\n",
    "  - apppends `x`'s list to the end of `y`'s list. Has to update every head-pointer in `x`\n",
    "  - can use the __weighted union heuristic__ keeing a counter for the lengt of each set and alway appending the smaller one."
   ]
  },
  {
   "cell_type": "markdown",
   "metadata": {},
   "source": [
    "#### Runtime Analysis with Linked Lists"
   ]
  },
  {
   "cell_type": "markdown",
   "metadata": {},
   "source": [
    "Let, \n",
    "- `Kruskal` for $G=(V,E)$ with $|V| =$ `n`, $|E|=$ `n`\n",
    "- `n'` = numCalls(`MakeSet`) = n \n",
    "- `m'` = numCalls(`MakeSet` + `union` + `Find-Set`) = 2n + 2m + 1\n",
    "\n",
    "in, \n",
    "\n",
    "$$\n",
    "\\begin{aligned}\n",
    "T(n,m) & = \\Theta(nT_{MakeSet}(n) + nT_{Union} + m(\\log(m) + T_{FindSet}(n)))\\\\\n",
    "       & = \\Theta(m \\log(m) + (2n + 2m -1) + n \\log(n))\\\\\n",
    "       & = \\underline{\\Theta(m \\log(m))}\n",
    "\\end{aligned}\n",
    "$$\n",
    "\n",
    "Conclusion: not any better than Prims Algorithm."
   ]
  },
  {
   "cell_type": "code",
   "execution_count": null,
   "metadata": {},
   "outputs": [],
   "source": []
  }
 ],
 "metadata": {
  "kernelspec": {
   "display_name": "Python3 - python",
   "language": "python",
   "name": "ipython_python"
  },
  "language_info": {
   "codemirror_mode": {
    "name": "ipython",
    "version": 3
   },
   "file_extension": ".py",
   "mimetype": "text/x-python",
   "name": "python",
   "nbconvert_exporter": "python",
   "pygments_lexer": "ipython3",
   "version": "3.7.7"
  }
 },
 "nbformat": 4,
 "nbformat_minor": 4
}
