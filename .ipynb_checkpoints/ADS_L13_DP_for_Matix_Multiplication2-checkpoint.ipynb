{
 "cells": [
  {
   "cell_type": "markdown",
   "metadata": {
    "jupyter": {
     "source_hidden": true
    }
   },
   "source": [
    "# Algorithms and Data Structures\n",
    "Nathan Sharp | October 2020\n",
    "***\n",
    "\n",
    "# Lecture 13: Dynamic Programming for Matix Multiplication 2"
   ]
  },
  {
   "cell_type": "markdown",
   "metadata": {},
   "source": [
    ">## The Matrix Chain Multiplication Problem\n",
    ">\n",
    ">What is the optimal number of multiplications needed to calulate $A_1 \\cdot A_2, \\cdots A_n$ and an optimal parenthisation to realise this"
   ]
  },
  {
   "cell_type": "markdown",
   "metadata": {},
   "source": [
    "## Solution Attempts\n",
    "---"
   ]
  },
  {
   "cell_type": "markdown",
   "metadata": {},
   "source": [
    "- Exhaustive search: Correct byt slow\n",
    "- Greedy: e.g. always do the cheapest first -> Incorrect\n",
    "  - counter example: (3,100)(100,2)(2,2)\n",
    "- Divide and Couquer: Divide $(A_1, \\cdots, A_k) (A_{k+1}, \\cdots, A_n)$ for all k -> very Slow.\n",
    "  - Runtime: $T(n) = \\sum_{k=1}^{n-1} (T(k) + T(n-k) + \\Theta(n) \\implies T(n) =  \\Omega(2^n)$ by induction (show in lectures). "
   ]
  },
  {
   "cell_type": "markdown",
   "metadata": {},
   "source": [
    "## Dynamic Programming Solution\n",
    "---"
   ]
  },
  {
   "cell_type": "markdown",
   "metadata": {},
   "source": [
    "$m[i,j]$ = the leat number of multiplications needed to compute $A_i \\cdot \\cdots \\cdot A_j$.\\\n",
    "$s[i,j]$ = the minimum spliting point, $min_{i<k<j}(m[i,j] = m[i,k] - m[k+1,j] + p_{i-1} \\cdot p_k \\cdot p_j)$.\n",
    "\n",
    "where,\\\n",
    "$s$ : a lookup table\\\n",
    "$p$ : an array of the dimentions of the input matrices (e.g. for matrix dimentions: A=(30x1),B=(1x40),C=(40x10),D=(10x25), $p$ = [30,1,40,10,25])\n"
   ]
  },
  {
   "cell_type": "markdown",
   "metadata": {},
   "source": [
    "### Pseudocode Intuition"
   ]
  },
  {
   "cell_type": "markdown",
   "metadata": {},
   "source": [
    "  - loop at line 2 is trivial, seting the square diagonal to zero\n",
    "  - line at 4, $\\ell$, counterintuitivly sets the subproblem size (increasing)\n",
    "  - loop at line 5, $i$, the start index (num interations = length of the diagonal to traverse, decreasing with each iteration of $\\ell$.)\n",
    "  - line 6, $j$, is the subproblem end index,following $i$ and increasing with $\\ell$\n",
    "  - loop at line 8 solves the subproblem, looking at all the options\n",
    "    - line 9 computes the fun\n",
    "    - line 12 writes the index of the opimal first multiplication position of the subproblem to table $s$\n",
    "   \n",
    " "
   ]
  },
  {
   "cell_type": "markdown",
   "metadata": {},
   "source": [
    "### Pseudocode"
   ]
  },
  {
   "cell_type": "markdown",
   "metadata": {},
   "source": [
    "<img src=\"./Images/matrix_chain_alg.png\" width=\"600\">\n"
   ]
  },
  {
   "cell_type": "markdown",
   "metadata": {},
   "source": [
    "### Worked Example"
   ]
  },
  {
   "cell_type": "markdown",
   "metadata": {},
   "source": [
    "<img src=\"./Images/matrix_chain_working.png\" width=\"500\">"
   ]
  },
  {
   "cell_type": "markdown",
   "metadata": {},
   "source": [
    "### Notes "
   ]
  },
  {
   "cell_type": "markdown",
   "metadata": {},
   "source": [
    "- table  are read diagonally down by iteration (loop at line 5)\n",
    "- table 's' accounts for the optimal split position (represented by the dots)\n",
    "- the optimal split posotion places brackets in reverse to do the most optimal split last"
   ]
  },
  {
   "cell_type": "markdown",
   "metadata": {},
   "source": [
    "## Runtime Analysis"
   ]
  },
  {
   "cell_type": "markdown",
   "metadata": {},
   "source": [
    "3 nested loops of size n (loop at line 4 is trivial)\\\n",
    "$$\\underline{T(n) \\in \\Theta (n^3)}$$"
   ]
  },
  {
   "cell_type": "markdown",
   "metadata": {},
   "source": [
    "## Multiplying the Matrices \n",
    "---"
   ]
  },
  {
   "cell_type": "markdown",
   "metadata": {},
   "source": [
    "<img src=\"./Images/matrix_chain_mult_alg.png\" width=\"600\">\n"
   ]
  },
  {
   "cell_type": "code",
   "execution_count": null,
   "metadata": {},
   "outputs": [],
   "source": []
  }
 ],
 "metadata": {
  "kernelspec": {
   "display_name": "Python3 - python",
   "language": "python",
   "name": "ipython_python"
  },
  "language_info": {
   "codemirror_mode": {
    "name": "ipython",
    "version": 3
   },
   "file_extension": ".py",
   "mimetype": "text/x-python",
   "name": "python",
   "nbconvert_exporter": "python",
   "pygments_lexer": "ipython3",
   "version": "3.7.7"
  }
 },
 "nbformat": 4,
 "nbformat_minor": 4
}
