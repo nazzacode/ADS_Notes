{
 "cells": [
  {
   "cell_type": "markdown",
   "metadata": {},
   "source": [
    "# Algorithms and Data Structures\n",
    "Nathan Sharp | October 2020\n",
    "****\n",
    "\n",
    "# Lecture 5: Fast Fourier Transform"
   ]
  },
  {
   "cell_type": "markdown",
   "metadata": {},
   "source": [
    "> ### Roots of Unity\n",
    "> ###### __DEFINITION__\n",
    "> For any positive integer $n$, the $n^{th}$ __roots of unity__ are the complex solutions to the equation $x^n = 1$, and there are $n$ solutions to the equation.\n",
    ">\n",
    "> ###### __DEFINITION__\n",
    "> Eulers formula can be used to find the $n^{th}$ roots of unity for any positive integer $n$,\n",
    ">   $$ e^{ix} = cis(x) = cos(x) + \\mathit{i} sin(x) $$\n",
    ">\n",
    "> ###### __THEOREM__\n",
    "> The set $U_n$ of all $n_{th}$ roots of unity can be found by,\n",
    ">   $$ U_n = \\{e^{2k \\pi i / n} \\ | k \\in \\{1,2,...,n\\}\\}$$   \n",
    ">    For more: https://brilliant.org/wiki/roots-of-unity/"
   ]
  },
  {
   "cell_type": "markdown",
   "metadata": {},
   "source": [
    "## Roots of Unity"
   ]
  },
  {
   "cell_type": "markdown",
   "metadata": {},
   "source": [
    "$x^n = 1$ has $n$ solutions in the complex numbers. They may be written\n",
    "$$ 1,\\omega_n, \\omega_n^2,...,\\omega_n^{n-1}$$\n",
    "where $\\omega_n$ is the __principal $nth$ root of unity__:\n",
    "$$ \\omega_n = cos(2 \\pi / n) + i sin(2 \\pi / n) $$\n",
    "\n",
    "![title](./Images/roots_of_unity.png)"
   ]
  },
  {
   "cell_type": "markdown",
   "metadata": {},
   "source": [
    "> ### The Fourier Tansform\n",
    "> ###### __KEY IDEA__\n",
    "> How to decompose complex waves into pure signals\n",
    ">\n",
    "> ###### __INTUITION__\n",
    "> 'Wrap' a wave round a circle, when the winding frequency = frequency of the wave, the center of mass on the winding graph will be maximmally off centre. Complex waves will 'line up' and produce spikes in the graph of the offset of the center of mass at core decomposiition frequencies. \n",
    "> (you can also inverse fourier transform by essentially reapplying)\n",
    ">\n",
    "> ![title](./Images/fourier1.png)\n",
    ">\n",
    "> ###### __DEFINITION__\n",
    "> $$ \\hat{g}(f) =\\int_{t_1}^{t_2} g(t)e^{-2 \\pi i ft}\\,dt$$\n",
    "> \n",
    "> For more: '3b1b link'"
   ]
  },
  {
   "cell_type": "markdown",
   "metadata": {},
   "source": [
    "## The Discrete Fourier Transform (DFT)"
   ]
  },
  {
   "cell_type": "markdown",
   "metadata": {},
   "source": [
    "###### __KEY IDEA__\n",
    "Signal processing mapping between time and frequency domains\n",
    "\n",
    "###### __USE CASE__\n",
    "signal processing, multipying polynomials, cyclic string matching, image compression, noise removal, fundamental to many aplications!\n",
    "\n",
    "###### __INPUT__\n",
    "A sequence of complex numbers $a_0,a_1,...,a_{n-1}$ <sup>[1](#myfootnote1)</sup> \n",
    "\n",
    "###### __OUTPUT__\n",
    "The sequence of complex numbers \n",
    "$$A(1), A(\\omega), A(\\omega_{n}), A(\\omega_{n}^2),...,A(\\omega_{n}^{n-1})$$\n",
    "obtained by evaluating the polynomial\n",
    "$$A(x) = a_0 + a_1 x + a_2 x^2 + ... + a_{n-1} x^{n-1}$$\n",
    "at the $n$th roots of unity. The intuition here is that the function creates a unique 'fingerprint' for the function.\n",
    "\n",
    "There's an obvious $\\Theta (n^2)$ algorithm, but the Fast Fourier Transform (FFT) does it in $\\Theta (n \\log n)$.\n",
    "\n",
    "<a name=\"myfootnote1\">1</a> assuming $n$ is a power of 2 "
   ]
  },
  {
   "cell_type": "markdown",
   "metadata": {},
   "source": [
    "## Fast Fourier Transform (FFT)"
   ]
  },
  {
   "cell_type": "markdown",
   "metadata": {},
   "source": [
    "Folling a divide-and-conquer approach, We are interested in evaluating\n",
    "$$A(x) = a_0 + a_1 x + a_2 x^2 + ... + a_{n-1} x^{n-1}$$\n",
    "Splitting A into even and odd polynomial indexes as follows, \n",
    "\n",
    "$$\n",
    "\\begin{align}\n",
    "& A_{even}(y) = a_0 + a_2 y + ... + a_{n-2} y^{n/2-1}\\\\\n",
    "& A_{odd}(y) = a_1 x + a_3 y + ... + a_{n-1} y^{n/2-1}\n",
    "\\end{align}\n",
    "$$\n",
    "so that\n",
    "$$A(x) = A_{even}(x^2) + A_{odd}(x^2).$$\n",
    "\n",
    "To evaluate $A(x)$ at the $n^{th}$ root of unity we evaluae $A_{even}(y)$ and $A_{odd}(y)$ at the points $1,\\omega_n^2, \\omega_n^4,...,\\omega_n^{2(n-1)}$\n",
    "\n",
    "###### __DEFINITION__\n",
    "Assuming n is even: \n",
    "$$ \\omega_n^2 = (e^{\\frac{2\\pi i}{n}})^2 = e^{\\frac{2\\pi i}{n/2}} = \\omega_{n/2} $$\n",
    "and\n",
    "$$ \\omega_n^{n/2} = (e^{\\frac{2\\pi i}{n}})^{n/2} = e^{\\pi i} = -1 $$"
   ]
  },
  {
   "cell_type": "markdown",
   "metadata": {},
   "source": [
    " "
   ]
  },
  {
   "cell_type": "code",
   "execution_count": null,
   "metadata": {},
   "outputs": [],
   "source": []
  }
 ],
 "metadata": {
  "kernelspec": {
   "display_name": "Python 3",
   "language": "python",
   "name": "python3"
  },
  "language_info": {
   "codemirror_mode": {
    "name": "ipython",
    "version": 3
   },
   "file_extension": ".py",
   "mimetype": "text/x-python",
   "name": "python",
   "nbconvert_exporter": "python",
   "pygments_lexer": "ipython3",
   "version": "3.7.7"
  }
 },
 "nbformat": 4,
 "nbformat_minor": 4
}
