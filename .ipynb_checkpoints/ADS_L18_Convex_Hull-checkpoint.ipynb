{
 "cells": [
  {
   "cell_type": "markdown",
   "metadata": {},
   "source": [
    "# Algorithms and Data Structures\n",
    "Nathan Sharp | October 2020\n",
    "***\n",
    "\n",
    "# Lecture 18: The Convex Hull"
   ]
  },
  {
   "cell_type": "markdown",
   "metadata": {},
   "source": [
    "###### __DEFINITION__\n",
    "1. A set $C$ of points is __convex__ if for all $p,q \\in C$ the whole line segment $\\overrightarrow{pq}$ is contained in $C$.\n",
    "2. The __convex hull__ of a set $Q$ of points is the smallest convex set $C$ that contains $Q$."
   ]
  },
  {
   "cell_type": "markdown",
   "metadata": {},
   "source": [
    "> ### Convex Polygon\n",
    "> ###### __DEFINITION__\n",
    "> A __Convex Polygon__ is a polygon where all interior angles are less than 180 degrees\n",
    ">\n",
    "> ###### __LEMMA 18.1__\n",
    "> Given any two points inside the polygon, the line segment between the stays inside the polygon.\n",
    "><center><img src=\"Images/convex_polygon.png\" width=\"400\"></center>"
   ]
  },
  {
   "cell_type": "markdown",
   "metadata": {},
   "source": [
    "> ### Convex Hull\n",
    "> ###### __DEFINITION__\n",
    "> A __Convex hull__ is the smallest _convex polygon_ containing a given set of points. \n",
    "><center><img src=\"Images/convex_hull.png\" width=\"400\"></center>"
   ]
  },
  {
   "cell_type": "markdown",
   "metadata": {},
   "source": [
    "> ### Gift Wrapping Algorithm\n",
    "> Start at coordinate extremity (must be on hull) and test each angle.\n",
    "><center><img src=\"Images/gift_wrapping.png\" width=\"400\"></center>\n",
    "\n",
    "> Time Complexity: $\\Theta(n^2)$ as worst case is all points on hull and all points traversed at each wrap."
   ]
  },
  {
   "cell_type": "markdown",
   "metadata": {},
   "source": [
    "> ### Graham Scan\n",
    "> Sort by angle from extremity point, while (right)turn add the next point to the stack, if (left)turn, back track and remove points inside hull.\n",
    "><center><img src=\"Images/graham_scan.png\" width=\"400\"></center>\n",
    "> Time Complexity: $\\Theta(n \\, log(n))$ sorting $\\Theta(n \\, log(n))$ dominates scanning $O(n)$ ($n$ as every point can maximally be put in, then out, the stack once)."
   ]
  },
  {
   "cell_type": "markdown",
   "metadata": {},
   "source": [
    "## Graham Scan Pseudocode"
   ]
  },
  {
   "cell_type": "markdown",
   "metadata": {},
   "source": [
    "<img src=\"Images/graham_scan_alg.png\" width=\"700\">"
   ]
  },
  {
   "cell_type": "markdown",
   "metadata": {},
   "source": [
    "### Runtime Analysis of Graham Scan"
   ]
  },
  {
   "cell_type": "markdown",
   "metadata": {},
   "source": [
    "- Lines 3-8 and 13 are $\\Theta(1)$\n",
    "- Line 1 is $\\Theta(n)$ in worst case\n",
    "- Line 2 requires $\\Theta(n \\, log(n))$\n",
    "- the outer __for__ loop in lines 9-12 is iterated $m-2$ times, thus disregarding the time needed for the inner __while__ loop, the loop requires $\\Theta(m) = O(n)$\n",
    "- the inner __while__ loop in lines 10-11 is executed at most once for each element as every element enters the stack once and hence can only be popped once, hence requiring $O(n)$.\n",
    "\n",
    "Thus the overall worst case running time is\n",
    "$$ \\underline{\\Theta(n \\, log(n))} $$"
   ]
  }
 ],
 "metadata": {
  "kernelspec": {
   "display_name": "Python3 - python",
   "language": "python",
   "name": "ipython_python"
  },
  "language_info": {
   "codemirror_mode": {
    "name": "ipython",
    "version": 3
   },
   "file_extension": ".py",
   "mimetype": "text/x-python",
   "name": "python",
   "nbconvert_exporter": "python",
   "pygments_lexer": "ipython3",
   "version": "3.7.7"
  }
 },
 "nbformat": 4,
 "nbformat_minor": 4
}
