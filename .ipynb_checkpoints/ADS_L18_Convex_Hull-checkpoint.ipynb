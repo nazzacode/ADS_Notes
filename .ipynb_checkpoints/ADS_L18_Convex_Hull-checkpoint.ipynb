{
 "cells": [
  {
   "cell_type": "markdown",
   "metadata": {},
   "source": [
    "# Algorithms and Data Structures\n",
    "Nathan Sharp | October 2020\n",
    "***\n",
    "\n",
    "# Lecture 17: Computational Geometry 1"
   ]
  },
  {
   "cell_type": "markdown",
   "metadata": {},
   "source": [
    "###### __DEFINITION__\n",
    "__Convex combination:__ of two points $p_1 = (x_1,y_1), \\quad p_2 = (x_2,y_2)$ is a point $p = (x,y)$ such that\n",
    "\n",
    "$$\n",
    "\\begin{aligned}\n",
    "x &= \\alpha x_1 + (1-\\alpha) x_2\\\\\n",
    "y &= \\alpha y_1 + (1- \\alpha) y_2\n",
    "\\end{aligned}\n",
    "$$\n",
    "for some $0 < \\alpha <1$ \n",
    "\n",
    "_Intuition:_ a point $p$ is a _convex combination_ of $p_1$ and $p_2$ if it is on the line segment from $p_1$ to $p_2$."
   ]
  },
  {
   "cell_type": "markdown",
   "metadata": {},
   "source": [
    "###### __DEFINITION__\n",
    "__Line Segment:__ set of all _convex combinations_ of $p_1$ and $p_2$ (can be made directed with line -> arrow)"
   ]
  },
  {
   "cell_type": "markdown",
   "metadata": {},
   "source": [
    "![title](./Images/line_segment.png)"
   ]
  },
  {
   "cell_type": "markdown",
   "metadata": {},
   "source": [
    "## Basic Problems"
   ]
  },
  {
   "cell_type": "markdown",
   "metadata": {},
   "source": [
    "1. Are two vectors with a common point of origin colinear (parallel), clockwise, or counterclockwise from 1 vector with respect to the shared point\n",
    "2. Are 2 head to tail vectors, colinear, making a left turn or making a right turn\n",
    "3. Do two vectors intersect\n",
    "\n",
    "- can we do this with the most basic operations: addition, subtraction, multiplication, comparison?\n",
    "- aka avoid division and trig functions. "
   ]
  },
  {
   "cell_type": "markdown",
   "metadata": {},
   "source": [
    "## Basic Solutions"
   ]
  },
  {
   "cell_type": "markdown",
   "metadata": {},
   "source": [
    "### Problem 1"
   ]
  },
  {
   "cell_type": "markdown",
   "metadata": {},
   "source": [
    "- consider the special case where $p_0 = (0,0)$ -> every other case can be normalised to this.\n",
    "$$ \n",
    "\\begin{aligned}\n",
    "&p_1 \\text{ is clockwise from } p2\\\\ \n",
    "&\\iff 0 < \\measuredangle(p_1,P_2) < \\pi\\\\\n",
    "&\\iff sin(\\measuredangle(p_1,p_2)) > 0\n",
    "\\end{aligned}\n",
    "$$\n",
    "- We can compute just the  _sign_ of $sin(\\measuredangle(p_1,p_2))$."
   ]
  },
  {
   "cell_type": "markdown",
   "metadata": {},
   "source": [
    "## Problem 3"
   ]
  },
  {
   "cell_type": "markdown",
   "metadata": {},
   "source": [
    "- We do not need to calculate the exact intersection point to know _if_ they intersect."
   ]
  },
  {
   "cell_type": "markdown",
   "metadata": {},
   "source": [
    "## Cross Product"
   ]
  },
  {
   "cell_type": "markdown",
   "metadata": {},
   "source": [
    "###### __DEFINITION__\n",
    "Given $p(x_p,y_p), \\, q=(x_q,y_q)$, the __cross product__ is:\n",
    "\n",
    "$$ p \\times q = det \\begin{pmatrix} x_p & x_q \\\\ y_p & y_q \\end{pmatrix} = x_p y_q - x_q y_p$$\n",
    "\n",
    "_Intuition:_ Signed area of parallelogram spanned by vectors $p,q$ (sign tells you if $q$ is clockwise (-), or anticlockwise (+) of $p$."
   ]
  },
  {
   "cell_type": "markdown",
   "metadata": {},
   "source": [
    "###### __LEMMA 17.1__\n",
    "1. $p \\times q = -q \\times p$\n",
    "2. - $p \\times q > 0 \\Rightarrow p \\text{ is clockwise from } q$\n",
    "   - $p \\times q = 0 \\Rightarrow p \\text{ is colinear with } q$\n",
    "   - $p \\times q < 0 \\Rightarrow p \\text{ is anticlockwise from } q$"
   ]
  },
  {
   "cell_type": "markdown",
   "metadata": {},
   "source": [
    "## Solving Problems 1 and 2"
   ]
  },
  {
   "cell_type": "markdown",
   "metadata": {},
   "source": [
    "Problem one can be solved by direct application of the cross product and lemma 17.1.\n",
    "\n",
    "Problem two can be solved by reduction to problem one by observing that a triagle can be formed by connecting $p_0$ to $p_2$ and anylysing in terms of $(p_0,p_1) \\times (p_0, p_2)$."
   ]
  },
  {
   "cell_type": "markdown",
   "metadata": {},
   "source": [
    "## Solving Problem 3"
   ]
  },
  {
   "cell_type": "markdown",
   "metadata": {},
   "source": [
    "1. Does $(p_1, p_2)$ _straddle_ $(p_3,p_4)$? where straddle means to lie on either side of the infinite plane made by extending $(p_3,p_4)$\n",
    "2. Then the lines intersect iff one of the following conditions hold,\\\n",
    "  i. both line segments straddle each other.\\\n",
    "  ii. An endpoint of one segment lies on the other."
   ]
  },
  {
   "cell_type": "markdown",
   "metadata": {},
   "source": [
    "## Straddle Test"
   ]
  },
  {
   "cell_type": "markdown",
   "metadata": {},
   "source": [
    "$\\overrightarrow{p_1p_2}$ straddles $\\overrightarrow{p_3p_4}$ iff\n",
    "$$((p_1 - p_3) \\times (p_4 - p_3))((p_2- p_3) \\times (p_4- p_3)) < 0$$\n",
    "\n",
    "_Intution:_\n",
    "  - only < 0 if the two halfs have a different sign.\n",
    "  - normalised $p_3$ to zero\n",
    "  - equation tests if $\\overrightarrow{p_3p_1}$ and $\\overrightarrow{p_3p_2}$ are clockwise/counterclockwise from $\\overrightarrow{p_3p_4}$, aka on different sides of (straddling) $\\overrightarrow{p_3p_4}$."
   ]
  },
  {
   "cell_type": "markdown",
   "metadata": {},
   "source": [
    "## Point on Segment Test"
   ]
  },
  {
   "cell_type": "markdown",
   "metadata": {},
   "source": [
    "$p_3$ is on segment $\\overrightarrow{p_1p_2}$ if\n",
    "1.  $(p_3 - p_1) \\times (p_2 - p_1) = 0$, and\n",
    "2. $min(x_1,x_2) \\leq x_3 \\leq max(x_1,x_2)$, and\n",
    "3. $min(y_1,y_2) \\leq y_3 \\leq max(y_1,y_2)$,\n"
   ]
  },
  {
   "cell_type": "markdown",
   "metadata": {},
   "source": []
  }
 ],
 "metadata": {
  "kernelspec": {
   "display_name": "Python3 - python",
   "language": "python",
   "name": "ipython_python"
  },
  "language_info": {
   "codemirror_mode": {
    "name": "ipython",
    "version": 3
   },
   "file_extension": ".py",
   "mimetype": "text/x-python",
   "name": "python",
   "nbconvert_exporter": "python",
   "pygments_lexer": "ipython3",
   "version": "3.7.7"
  }
 },
 "nbformat": 4,
 "nbformat_minor": 4
}
