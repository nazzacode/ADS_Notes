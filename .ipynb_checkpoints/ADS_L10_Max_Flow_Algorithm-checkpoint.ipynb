{
 "cells": [
  {
   "cell_type": "markdown",
   "metadata": {},
   "source": [
    "# Algorithms and Data Structures\n",
    "Nathan Sharp | October 2020\n",
    "***\n",
    "\n",
    "# Lecture 10: Network Flow"
   ]
  },
  {
   "cell_type": "markdown",
   "metadata": {},
   "source": [
    "The/A max-flow algorithm very important as many other problems can be reduced to nekwork flow."
   ]
  },
  {
   "cell_type": "markdown",
   "metadata": {},
   "source": [
    "## Flow Networks\n",
    "---"
   ]
  },
  {
   "cell_type": "markdown",
   "metadata": {},
   "source": [
    "A flow network consists of:\n",
    "- a _directed graph_ $G = (V,E)$\n",
    "- A capacity function $c$ (assigned to every edge)$: V \\times V \\rightarrow \\mathbb{R}$ such that $c(u,v) \\geq 0$ if $(u,v) \\in E$ and $c(u,v) = 0$ for all $(u,v) \\notin E$.\n",
    "- Two distinguished edges $s,t \\in V$ called the __source__ and the __sink (target)__.\n",
    "\n",
    "Notation: $(u,v)$ is the edge $u \\rightarrow v$\n",
    "\n",
    "_Assumption:_ graph is __connected__ meaning every vertice $v \\in V$ is on _some_ directed path from $s$ to $t$. This implies $|E| \\geq |V| -1$ but does not necesssarily imply that it is strongly connected (every vertex reachable from every other vertex)."
   ]
  },
  {
   "cell_type": "markdown",
   "metadata": {},
   "source": [
    "## Nework Flow\n",
    "---"
   ]
  },
  {
   "cell_type": "markdown",
   "metadata": {},
   "source": [
    "###### __DEFINITON__\n",
    "let $\\mathcal{N} =(G=(V,E),c,s,t)$ be a __flow network__. \n",
    "\n",
    "A __flow__ in $\\mathcal{N}$ is a function $f : V \\times V \\rightarrow \\mathbb{R}$ satisfying the following conditions:\n",
    "\n",
    "1. Capacity constraint: $f(u,v) \\leq c(u,v) \\quad \\forall u,v \\in V$\n",
    "2. Skew symetry: $f(u,v) = -f(v,u) \\quad \\forall u,v \\in V$\n",
    "3. Flow conservation (in flow = out flow at a node): $ \\forall u \\in V - \\{ s,t \\}$, $ \\sum_{v \\in V} f(u,v) = 0$\n",
    "\n",
    "- For $u,v \\in V$ we call $f(u,v)$ the __net flow__ at $(u,v)$\n",
    "- The value of the flow (in flow at $v$), $f$, is the number $|f| = \\sum_{v \\in V} f(s,v)$"
   ]
  },
  {
   "cell_type": "markdown",
   "metadata": {},
   "source": [
    "## The Maximum Flow Problem\n",
    "---"
   ]
  },
  {
   "cell_type": "markdown",
   "metadata": {},
   "source": [
    "Find the maximum flow inside a network"
   ]
  },
  {
   "cell_type": "markdown",
   "metadata": {},
   "source": [
    "### Pseudocode (Ford-Fulkerson)"
   ]
  },
  {
   "cell_type": "markdown",
   "metadata": {},
   "source": [
    "![title](maxFlow.png)\n",
    "\n",
    "\n",
    "where the __residual network__ is $\\mathcal{N}$ with the 'used-up' capacity removed"
   ]
  },
  {
   "cell_type": "markdown",
   "metadata": {},
   "source": [
    "## Residual Networks\n",
    "---"
   ]
  },
  {
   "cell_type": "markdown",
   "metadata": {},
   "source": [
    "_Intuition:_ capture the possible extra flow given current flow"
   ]
  },
  {
   "cell_type": "markdown",
   "metadata": {},
   "source": [
    "###### __DEFINITION__\n",
    "given a flow network $\\mathcal{N} =(G = (V,E),c, s,t)$ and $f$ a flow in $\\mathcal{N}$\n",
    "\n",
    "1. __Residual capacity__ of $(u,v)$ for all $u,v \\in V \\times V$ is $ c_f(u,v) = c(u,v) - f(u,v)$\n",
    "2. __Residual network__ \"of $\\mathcal{N}$ induced by $f$\" is $ \\mathcal{N}_f((V,E_f),c_f,s,t $ where $E_f = \\{ (u,v) \\in V \\times V \\, | c_f(u,v) > 0 \\}$\n",
    "\n",
    "_Note:_ $E_f$ may contain _back edges_ not orininally in $E$ (so you can cut back to go forward)."
   ]
  },
  {
   "cell_type": "markdown",
   "metadata": {},
   "source": [
    "###### __DEFINITION__\n",
    "__Augmenting path $P$__ in a flow network $\\mathcal{N}$ for a flow $f$ is a path from $s$ to $t$ in the residual network $\\mathcal{N}_f$.\n",
    "\n",
    "The _residual capacity_ of $P$ is \n",
    "$$ c_f(P) = min \\{ c_f(u,v) \\,|\\, (u,v) \\text{ edge on } P\\}$$\n",
    "\n",
    "_Note:_ $c_f(P) > 0$, by defnition of $E_f$. (we only keep edges if their residual capacity is positive)"
   ]
  },
  {
   "cell_type": "code",
   "execution_count": null,
   "metadata": {},
   "outputs": [],
   "source": []
  }
 ],
 "metadata": {
  "kernelspec": {
   "display_name": "Python3 - python",
   "language": "python",
   "name": "ipython_python"
  },
  "language_info": {
   "codemirror_mode": {
    "name": "ipython",
    "version": 3
   },
   "file_extension": ".py",
   "mimetype": "text/x-python",
   "name": "python",
   "nbconvert_exporter": "python",
   "pygments_lexer": "ipython3",
   "version": "3.7.7"
  }
 },
 "nbformat": 4,
 "nbformat_minor": 4
}
