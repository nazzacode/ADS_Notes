{
 "cells": [
  {
   "cell_type": "markdown",
   "metadata": {},
   "source": [
    "# Algorithms and Data Structures\n",
    "Nathan Sharp | October 2020\n",
    "***\n",
    "\n",
    "# Lecture 15: Minimum Spanning Trees and Prims Algorithm 2"
   ]
  },
  {
   "cell_type": "markdown",
   "metadata": {},
   "source": [
    "## Pseudocode for Prims Algorithm"
   ]
  },
  {
   "cell_type": "markdown",
   "metadata": {},
   "source": [
    "Implemented on the vectors with a priority queue data structure\n",
    "\n",
    "  - $\\pi$ 'parent array' : (index,value) = vertex, weight to parent in MST \n",
    "  - $Decrease Key()$ : is what any normal programmer would call update key, with a space because reasons.\n",
    "  "
   ]
  },
  {
   "cell_type": "markdown",
   "metadata": {},
   "source": [
    "<img src=\"./Images/prims_alg_priority_q.png\">"
   ]
  },
  {
   "cell_type": "markdown",
   "metadata": {},
   "source": [
    "## Runtime Analysis of Primms Algorithm \n",
    "---"
   ]
  },
  {
   "cell_type": "markdown",
   "metadata": {},
   "source": [
    "Let $n$ be the number of vertices and $m$ be the number of edges of the input graph.\n",
    "\n",
    "#### Prim\n",
    "- lines 1-7, 13 of Prim are $\\Theta(n)$ together (ends up being trivial)\n",
    "- loop lines 8-12, $Q$ will extract each of the $n$ vertices of $\\mathcal{G}$ once, $\\Theta(n)$\n",
    "  - $Extract\\text{-}Min$, diregarding the inner loop (lines 11 and 12) the we have a total of $\\Theta(n \\cdot T_{\\text{Extract-Min}}(n))$\n",
    "    - Note: $T_{\\text{Extract-Min}}(n)$ is the sorting time of the priority queue.\n",
    "  - rest of the loop is trivial \n",
    "- The inner loop at lines 11 and 12 in total total is executed at most (and at least) once for each edge (y is only expanded on the frontier side) so its execution requires $\\Theta(m \\cdot T_{Relax}(n,m))$"
   ]
  },
  {
   "cell_type": "markdown",
   "metadata": {},
   "source": [
    "#### Relax\n",
    "- $Insert$ is executed once for every vertex total, $\\Theta(n \\cdot T_{Insert}(n))$\n",
    "- $Decrease\\text{-}Key$ is executed at most once for every edge, $\\Theta(m \\cdot T_{Decrease\\text{-}Key}(n))$\n",
    "- all other lines are trivial in comparision "
   ]
  },
  {
   "cell_type": "markdown",
   "metadata": {},
   "source": [
    "#### Overall\n",
    "$$\\underline{T(n,m) = \\Theta(n \\cdot T_{Extract\\text{-}Min}(n) + n \\cdot T_{Insert}(n) + m \\cdot T_{Decrease\\text{-}Key}(n))}$$\n",
    "\n",
    "The breakdown of these subfuctions depends on the data structure used for the priority queue implementation."
   ]
  },
  {
   "cell_type": "markdown",
   "metadata": {},
   "source": [
    "### Priority Queue Implementation Comparisions"
   ]
  },
  {
   "cell_type": "markdown",
   "metadata": {},
   "source": [
    "|                       | Array       | Heap              | Fibonacci Heap          |\n",
    "|-----------------------|-------------|-------------------|-------------------------|\n",
    "| $Insert$              | $\\Theta(1)$ | $\\Theta(\\log(n))$ | $\\Theta(1)$             |\n",
    "| $Extract\\text{-}Min$  | $\\Theta(n)$ | $\\Theta(\\log(n))$ | $\\Theta(\\log(n))$       |\n",
    "| $Decrease\\text{-}Key$ | $\\Theta(1)$ | $\\Theta(\\log(n))$ | $\\Theta(1)$ (amortised) |"
   ]
  },
  {
   "cell_type": "markdown",
   "metadata": {},
   "source": [
    "did not take full notes - conclusion was runtime of prims dependent on whether priority queue was implemented with an array or heap. Resulted in $\\Theta(n^2)$ vs $\\Theta((m+n)log(n))$ (n vertices, m edges)"
   ]
  },
  {
   "cell_type": "code",
   "execution_count": null,
   "metadata": {},
   "outputs": [],
   "source": []
  },
  {
   "cell_type": "code",
   "execution_count": null,
   "metadata": {},
   "outputs": [],
   "source": []
  }
 ],
 "metadata": {
  "kernelspec": {
   "display_name": "Python3 - python",
   "language": "python",
   "name": "ipython_python"
  },
  "language_info": {
   "codemirror_mode": {
    "name": "ipython",
    "version": 3
   },
   "file_extension": ".py",
   "mimetype": "text/x-python",
   "name": "python",
   "nbconvert_exporter": "python",
   "pygments_lexer": "ipython3",
   "version": "3.7.7"
  }
 },
 "nbformat": 4,
 "nbformat_minor": 4
}
