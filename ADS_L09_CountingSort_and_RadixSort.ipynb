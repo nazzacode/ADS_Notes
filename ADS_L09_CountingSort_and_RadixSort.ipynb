{
 "cells": [
  {
   "cell_type": "markdown",
   "metadata": {},
   "source": [
    "# Algorithms and Data Structures\n",
    "Nathan Sharp | October 2020\n",
    "***\n",
    "\n",
    "# Lecture 9: Counting Sort and Radix Sort"
   ]
  },
  {
   "cell_type": "markdown",
   "metadata": {},
   "source": [
    "_Assumption:_ The sort keys are a sequence of bits\n",
    "\n",
    "This is a natural special case, breaks down for example with exact real numbers etc.\n",
    "\n",
    "The suprising result is we can sort in $\\Theta(n)$ time."
   ]
  },
  {
   "cell_type": "markdown",
   "metadata": {},
   "source": [
    "## Simple Case\n",
    "---"
   ]
  },
  {
   "cell_type": "markdown",
   "metadata": {},
   "source": [
    "Keys (what I would call values) are integers in the range $1,...,m$, where $m = O(n)$ We can sort in $\\Theta (n)$ time by initializing an array of size $m$ and tallying elements from the input into the array in the position of their value, then reading back all the non-empty elements in this array. (not very impressive?)"
   ]
  },
  {
   "cell_type": "markdown",
   "metadata": {},
   "source": [
    "## Counting Sort\n",
    "---"
   ]
  },
  {
   "cell_type": "markdown",
   "metadata": {},
   "source": [
    "(More suprising case) For any constant $k$, sorting $n$ integer elements in the range $\\{1,...,n^k\\}$. We can still sort in $\\Theta (n)$"
   ]
  },
  {
   "cell_type": "markdown",
   "metadata": {},
   "source": [
    "### Intuition"
   ]
  },
  {
   "cell_type": "markdown",
   "metadata": {},
   "source": [
    "1. Count for every input value how often it occurs in the input array. Store in array C.\n",
    "2. Modify C so that C[j] = the number of keys leq to j\n",
    "\n",
    "C now tells is the correct range of indices in which C[j] occurs.  "
   ]
  },
  {
   "cell_type": "markdown",
   "metadata": {},
   "source": [
    "### Pseudocode"
   ]
  },
  {
   "cell_type": "markdown",
   "metadata": {},
   "source": [
    "![title](./Images/countingSort.png)"
   ]
  },
  {
   "cell_type": "markdown",
   "metadata": {},
   "source": [
    "### Running time of Counting Sort"
   ]
  },
  {
   "cell_type": "markdown",
   "metadata": {},
   "source": [
    "- loops 3-5, 9-12 and 13-14 are all $\\Theta (n)$\n",
    "- loop 6-7 is $\\Theta(m)$\n",
    "\n",
    "Hence the overall running time is\n",
    "\n",
    "$$ O(n + m) $$\n",
    "\n",
    "This is linear in the number of elements as $m \\in O(n)$, hence\n",
    "\n",
    "$$ \\underline{T(n) \\in 0(n)}$$\n",
    "\n",
    "Note: Counting sort is stable\n",
    "\n",
    "__Stable:__ relative order of elements of equal value is preserved in sorting"
   ]
  },
  {
   "cell_type": "markdown",
   "metadata": {},
   "source": [
    "## Radix Sort\n",
    "---"
   ]
  },
  {
   "cell_type": "markdown",
   "metadata": {},
   "source": [
    "_Assumption:_ Values are sequences of digits in a fixed range $0,...,R-1$ all of equal length $d$. (e.g. 4 digit hex nubers R=16, d=4)"
   ]
  },
  {
   "cell_type": "markdown",
   "metadata": {},
   "source": [
    "_Intuition:_ sort the keys digit by digit, starting with the least significant."
   ]
  },
  {
   "cell_type": "markdown",
   "metadata": {},
   "source": [
    "### Pseudocode"
   ]
  },
  {
   "cell_type": "markdown",
   "metadata": {},
   "source": [
    "![title](./Images/radixSort.png)\n",
    "\n",
    "Note: counting sort is most often used for line 2"
   ]
  },
  {
   "cell_type": "markdown",
   "metadata": {},
   "source": [
    "### Running Time of Radix Sort"
   ]
  },
  {
   "cell_type": "markdown",
   "metadata": {},
   "source": [
    "$\\Theta(d(n +R))$ intuitivly by the pseudocode. Can we do better?"
   ]
  },
  {
   "cell_type": "markdown",
   "metadata": {},
   "source": [
    "###### __THEOREM__\n",
    "An array of length $n$ whose keys are b-bit numbers can be sorted in time $\\Theta (n \\lceil b/ \\log(n) \\rceil)$"
   ]
  },
  {
   "cell_type": "markdown",
   "metadata": {},
   "source": [
    "###### __PROOF__\n",
    "Let the digits be blocks of $\\lceil log \\, n \\rceil$ bits. Then $R= 2^{\\lceil log \\, n \\rceil} = \\Theta(n)$ and $d = \\lceil b/ \\lceil log \\, n \\rceil \\rceil$.\n",
    "\n",
    "Hence by substitution,\n",
    "$$\\underline{T(n) \\in \\Theta (n \\lceil b/ \\log(n) \\rceil)}$$"
   ]
  },
  {
   "cell_type": "markdown",
   "metadata": {},
   "source": [
    "If all numbers are at most $n^k$ then $b = k \\log(n)$ which implies\n",
    "\n",
    "$$\\underline{T(n) \\in \\Theta(n)}$$"
   ]
  }
 ],
 "metadata": {
  "kernelspec": {
   "display_name": "Python3 - python",
   "language": "python",
   "name": "ipython_python"
  },
  "language_info": {
   "codemirror_mode": {
    "name": "ipython",
    "version": 3
   },
   "file_extension": ".py",
   "mimetype": "text/x-python",
   "name": "python",
   "nbconvert_exporter": "python",
   "pygments_lexer": "ipython3",
   "version": "3.7.7"
  }
 },
 "nbformat": 4,
 "nbformat_minor": 4
}
