{
 "cells": [
  {
   "cell_type": "markdown",
   "metadata": {},
   "source": [
    "# Algorithms and Data Structures\n",
    "Nathan Sharp | October 2020\n",
    "***\n",
    "\n",
    "# Lecture 11: The Max Flow Algorithm"
   ]
  },
  {
   "cell_type": "markdown",
   "metadata": {},
   "source": [
    "## Cut\n",
    "---"
   ]
  },
  {
   "cell_type": "markdown",
   "metadata": {},
   "source": [
    "_Intuition:_ split the edges in two and draw a line between them summing the capacity across the 'cut'"
   ]
  },
  {
   "cell_type": "markdown",
   "metadata": {},
   "source": [
    "###### __DEFINITION__\n",
    "A __Cut__ of a flow network $N$ ($N =(G = (V,E),c,s,t)$) is a pair $(S,T)$ such that\n",
    "1. $s \\in S$ and $t \\in T$\n",
    "2. $V = S \\cup T$ and $S \\cap T = \\varnothing$\n",
    "\n",
    "The _capacity_ of the cut $(S,T)$ is \n",
    "$$ c(S,T) = \\sum_{u \\in S,v \\in T} c(u,v).$$"
   ]
  },
  {
   "cell_type": "markdown",
   "metadata": {},
   "source": [
    "![title](Images/flow_cut.png)\n",
    "A cut with capacity of 45."
   ]
  },
  {
   "cell_type": "markdown",
   "metadata": {},
   "source": [
    "###### __THEOREM__\n",
    "__Max-flow min-cut:__ The maximum flow of a flow in network $\\mathcal{N}$ is equal to the minimum capacity of a cut in $\\mathcal{N}$."
   ]
  },
  {
   "cell_type": "markdown",
   "metadata": {},
   "source": [
    "###### __COROLLARY__\n",
    "A flow is maximum iff it has no augmenting path"
   ]
  },
  {
   "cell_type": "markdown",
   "metadata": {},
   "source": [
    "###### __COROLLARY__\n",
    "If the _ford-fulkerson_ terminates then its the max flow."
   ]
  },
  {
   "cell_type": "markdown",
   "metadata": {},
   "source": [
    "## Edmonds-Karp Heuristic\n",
    "---"
   ]
  },
  {
   "cell_type": "markdown",
   "metadata": {},
   "source": [
    "Intuition: Choose a shortest augmenting path.\n",
    "\n",
    "For our graph with $n$ vertices and $m$ edges, A shortet augmenting path can be found by _breadth-first-search_  (taking the shortest path) in time $O(n+m) = O(m)$ (as $n \\leq m + 1$)"
   ]
  },
  {
   "cell_type": "markdown",
   "metadata": {},
   "source": [
    "###### __THEOREM__\n",
    "The Ford-Fulkerson algorithm with the Edmonds Karp heuristic tops afterat most $O(nm)$ iteratoins of the main loop. Thus the running time is $O(nm^2)$"
   ]
  },
  {
   "cell_type": "markdown",
   "metadata": {},
   "source": [
    "###### __PROOF__\n",
    "In CLRS and (my) Coursework 2. Rather long. "
   ]
  }
 ],
 "metadata": {
  "kernelspec": {
   "display_name": "Python3 - python",
   "language": "python",
   "name": "ipython_python"
  },
  "language_info": {
   "codemirror_mode": {
    "name": "ipython",
    "version": 3
   },
   "file_extension": ".py",
   "mimetype": "text/x-python",
   "name": "python",
   "nbconvert_exporter": "python",
   "pygments_lexer": "ipython3",
   "version": "3.7.7"
  }
 },
 "nbformat": 4,
 "nbformat_minor": 4
}
