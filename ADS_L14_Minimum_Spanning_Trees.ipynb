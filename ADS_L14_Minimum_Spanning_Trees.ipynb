{
 "cells": [
  {
   "cell_type": "markdown",
   "metadata": {},
   "source": [
    "# Algorithms and Data Structures\n",
    "Nathan Sharp | October 2020\n",
    "***\n",
    "\n",
    "# Lecture 14: Minimum Spanning Trees and Primms Algorithm"
   ]
  },
  {
   "cell_type": "markdown",
   "metadata": {},
   "source": [
    "Starting Point: A weighted graph\n",
    "\n",
    "Assumption: Weights are non-negative"
   ]
  },
  {
   "cell_type": "markdown",
   "metadata": {},
   "source": [
    "__Adjacency Matrix:__ A way of storing a labled graph with $n^2$ entries representing a weight between every vertex (symetric if undirected)\n",
    "\n",
    "__Adjacency List:__ Space efficient version of and Adjacency matrix. A list of lists with (Edge, weight) cells.  "
   ]
  },
  {
   "cell_type": "markdown",
   "metadata": {},
   "source": [
    "## Minimum Spanning Tree\n",
    "---"
   ]
  },
  {
   "cell_type": "markdown",
   "metadata": {},
   "source": [
    "___Problem:___ Given a collection of _sites_ (vertices) and _costs_ (edges) connecting them, find a minimum cost way of connecting all sites.\n",
    "\n",
    "Use case: cost of laying cable or a water pipe between two points.\n",
    "\n",
    "Obersvation: A connected spanning subgraph of absoloute minimum weight is a tree."
   ]
  },
  {
   "cell_type": "markdown",
   "metadata": {},
   "source": [
    "###### __DEFINITION__\n",
    "__Minimum spanning tree__ of a graph $\\mathcal{G}$ is a connected spanning subgraph $\\mathcal{T}$ of $\\mathcal{G}$ of minimum weight.\n"
   ]
  },
  {
   "cell_type": "markdown",
   "metadata": {},
   "source": [
    "## Prims's Algorithm\n",
    "---"
   ]
  },
  {
   "cell_type": "markdown",
   "metadata": {},
   "source": [
    "_Intuition:_ Greedy aproach 'growing' a MST out of a single vertex by repeatedly adding a _fringe_ (neghbouring) edges of minimum weight.\n",
    "\n",
    "__Fringe:__ an edge of subtree $\\mathcal{T}$ with exactly one endpoint in $\\mathcal{T}$"
   ]
  },
  {
   "cell_type": "markdown",
   "metadata": {},
   "source": [
    "<img src=\"./Images/prims_alg.png\" width=\"500\">"
   ]
  },
  {
   "cell_type": "markdown",
   "metadata": {},
   "source": [
    "### Correctness of Prims Algorithm"
   ]
  },
  {
   "cell_type": "markdown",
   "metadata": {},
   "source": [
    "###### __PROOF__\n",
    "Necessary Condition (1): Throughout execution, $\\mathcal{T}$ remains a tree.\\\n",
    "Necessary Condition (2): All vertices will eventually be added to $\\mathcal{T}$.\\\n",
    "Necessary Condition (3): Throughout execution, $\\mathcal{T}$ is contained in some MST of $\\mathcal{G}.$ \n",
    "\n",
    "#### Proof of (1)\n",
    "Necessary Condition (i): $\\mathcal{T}$ is always connected.\\\n",
    "Necessary Condition (ii): $\\mathcal{T}$ never contains a cycle.\n",
    "\n",
    "  (i). only edges with an endpoint in $\\mathcal{T}$ are added to $\\mathcal{T}$, so $\\mathcal{T}$ remains connected\\\n",
    "  (ii). We never add an edge with both endpoints in $\\mathcal{T}$ so the algorith never constructs a cycle\n",
    "\n",
    "#### Proof of (2)\n",
    "As $\\mathcal{G}$ is connected, and primms algorithm only terminates when there are no fringe edges, every edge will become a frige and therefore be added.\n",
    "\n",
    "#### Proof of (3)\n",
    "Suppose that $\\mathcal{T}$ in contained in an MST $\\mathcal{T'}$ and that fringe edge $e =(u,v)$ is then added to $\\mathcal{T}$ by Primm. We shall prove that $\\mathcal{T} + e$ is contained in some MST.\n",
    "\n",
    "case (i): $e$ is contained in $\\mathcal{T'}$. Hence $\\mathcal{T} + e$ is in a MST.\\\n",
    "case (ii): $e \\not\\in \\mathcal{T'}$, consider the unique path $\\mathcal{P}$ from $u$ to $v$ in $\\mathcal{T}$. then $\\mathcal{P}$ contains _exactly_ one fringe edge $e' = (u',v')$ with $W(e) \\leq W(e')$\n",
    "\n",
    "<img src=\"./Images/prims_tree_proof.png\" width=\"500\">\n",
    "\n",
    "  - let $\\mathcal{T''} = \\mathcal{T'} + e - e'$\n",
    "  - $\\mathcal{T''}$ is a tree as dropping $e'$ must split the tree into two components, with $x$ and $y$ being in different components (becuase we have broken the unique path between them), hence adding $e$ does not create a cycle\n",
    "\n",
    "Hence $\\mathcal{T''}$ is an MST as it has the same vertices as $\\mathcal{T'}$ and this completes our proof."
   ]
  }
 ],
 "metadata": {
  "kernelspec": {
   "display_name": "Python3 - python",
   "language": "python",
   "name": "ipython_python"
  },
  "language_info": {
   "codemirror_mode": {
    "name": "ipython",
    "version": 3
   },
   "file_extension": ".py",
   "mimetype": "text/x-python",
   "name": "python",
   "nbconvert_exporter": "python",
   "pygments_lexer": "ipython3",
   "version": "3.7.7"
  }
 },
 "nbformat": 4,
 "nbformat_minor": 4
}
