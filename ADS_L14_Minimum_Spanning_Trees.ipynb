{
 "cells": [
  {
   "cell_type": "markdown",
   "metadata": {},
   "source": [
    "# Algorithms and Data Structures\n",
    "Nathan Sharp | October 2020\n",
    "***\n",
    "\n",
    "# Lecture 14: Minimum Spanning Trees and Primms Algorithm"
   ]
  },
  {
   "cell_type": "markdown",
   "metadata": {},
   "source": [
    "_Starting Point:_ A weighted graph"
   ]
  },
  {
   "cell_type": "markdown",
   "metadata": {},
   "source": [
    "__Adjacency Matrix:__ A way of storing a labled graph with $n^2$ entries representing a weight between every verex\n",
    "    - symetric if undirected\n",
    "\n",
    "__Adjacency List:__ Space efficient version of and Adjacency matrix. A list of lists with (Edge, weight) cells.  "
   ]
  },
  {
   "cell_type": "markdown",
   "metadata": {},
   "source": [
    "## Minimum Spanning Tree"
   ]
  },
  {
   "cell_type": "markdown",
   "metadata": {},
   "source": [
    "___Problem:___ Given a collection of _sites_ and _costs_ connecting them, find a minimum cost way of connecting all sites.\\\n",
    "_Intuition:_ cost of laying cable or a water pipe between two points\n",
    "\n",
    "Obersvation: A connected spanning subgraph of absoloute mninimum weight is a tree."
   ]
  },
  {
   "cell_type": "markdown",
   "metadata": {},
   "source": [
    "## Prims's Algorithm"
   ]
  },
  {
   "cell_type": "markdown",
   "metadata": {},
   "source": [
    "_Intuition:_ Greedy aproach 'growing' a MST out of a single vertex by repeatedly adding a _fringe_ (neghbouring) edges of minimum weight.\\\n",
    "__Fringe:__ an edge withe exactly one endpoint."
   ]
  },
  {
   "cell_type": "markdown",
   "metadata": {},
   "source": [
    "![title](./Images/prims_algorithm.png)"
   ]
  },
  {
   "cell_type": "code",
   "execution_count": null,
   "metadata": {},
   "outputs": [],
   "source": []
  }
 ],
 "metadata": {
  "kernelspec": {
   "display_name": "Python3 - python",
   "language": "python",
   "name": "ipython_python"
  },
  "language_info": {
   "codemirror_mode": {
    "name": "ipython",
    "version": 3
   },
   "file_extension": ".py",
   "mimetype": "text/x-python",
   "name": "python",
   "nbconvert_exporter": "python",
   "pygments_lexer": "ipython3",
   "version": "3.7.7"
  }
 },
 "nbformat": 4,
 "nbformat_minor": 4
}
