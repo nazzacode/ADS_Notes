{
 "cells": [
  {
   "cell_type": "markdown",
   "metadata": {},
   "source": [
    "# Algorithms and Data Structures\n",
    "Nathan Sharp | October 2020\n",
    "****\n",
    "\n",
    "# Lecture 4: Strassens Algorithm & The Master Theorem"
   ]
  },
  {
   "cell_type": "markdown",
   "metadata": {},
   "source": [
    "## The Master Theorem\n",
    "---"
   ]
  },
  {
   "cell_type": "markdown",
   "metadata": {},
   "source": [
    "Useful in divide and conquer algorithms when you are splitting into $a$ subproblems all of size $n/b$.\n",
    "\n",
    "Let $n_0 \\in \\mathbb{N}, k \\in \\mathbb{N}_0$  and $a,b \\in \\mathbb{R}$ with $a > 0$  and $b > 1$, and let $T: \\mathbb{N} \\rightarrow \\mathbb{R}$ satisfy the following reccurence:\n",
    "\n",
    "$$\n",
    "T(n) =\n",
    "  \\begin{cases}\n",
    "    \\Theta (1)                     & \\quad \\text{if } n < n_0\\\\\n",
    "    a \\cdot T(n/b) + \\Theta (n^k)  & \\quad \\text{if } n \\geq n_0\n",
    "  \\end{cases}\n",
    "$$\n",
    "\n",
    "Let $c = \\log_b(a)$; where we call $c$ the '_critical exponent_'. Then,\n",
    "\n",
    "$$\n",
    "T(n) =\n",
    "\\begin{cases}\n",
    "  \\Theta (n^c)                & \\quad \\text{if } k < c  & \\quad \\text{Case }I\\\\\n",
    "  \\Theta (n^c \\cdot \\log(n))  & \\quad \\text{if } k = c  & \\quad \\text{Case }II\\\\ \n",
    "  \\Theta(n^k)                 & \\quad \\text{if } k > c  & \\quad \\text{Case }III\n",
    "\\end{cases}\n",
    "$$\n",
    "\n",
    "The Theorem also holds if we replace $a \\cdot T(n/b)$ above with $a_1 \\cdot T(\\lfloor n/b \\rfloor) + a_2 \\cdot T(\\lceil n/b \\rceil)$ for any $a_1,a_2 \\geq 0$ with $a_1 + a_2 = a$."
   ]
  },
  {
   "cell_type": "markdown",
   "metadata": {},
   "source": [
    "## Matrix Multiplication\n",
    "---"
   ]
  },
  {
   "cell_type": "code",
   "execution_count": 2,
   "metadata": {},
   "outputs": [
    {
     "data": {
      "text/plain": [
       "[[8, 5], [20, 13]]"
      ]
     },
     "execution_count": 2,
     "metadata": {},
     "output_type": "execute_result"
    }
   ],
   "source": [
    "def matMult(A,B):\n",
    "    \"\"\"Multiplies 2 square matrices\"\"\"             # Running Time\n",
    "    n = len(A)                                     # O(1)\n",
    "    C = [[j for j in range(n)] for i in range(n)]  # O(1)\n",
    "    for i in range(n):                             # O(n)\n",
    "        for j in range(n):                         # O(n)\n",
    "            Cij = 0                                # O(1)\n",
    "            for k in range(n):                     # O(n)\n",
    "                Cij += A[i][k] * B[k][j]           # O(1) (significant step)\n",
    "            C[i][j] = Cij                          # O(1)\n",
    "    return C                                       # O(1)\n",
    "\n",
    "# testing\n",
    "A = [[1,2],[3,4]]\n",
    "B = [[4,3],[2,1]]\n",
    "\n",
    "matMult(A,B)"
   ]
  },
  {
   "cell_type": "markdown",
   "metadata": {},
   "source": [
    "### Running Time of naive matrix multiplication"
   ]
  },
  {
   "cell_type": "markdown",
   "metadata": {},
   "source": [
    "$\\underline{T(n) \\in \\Theta (n^3)}$"
   ]
  },
  {
   "cell_type": "markdown",
   "metadata": {},
   "source": [
    "## Strassens Algorithm"
   ]
  },
  {
   "cell_type": "markdown",
   "metadata": {},
   "source": [
    "Strassens Algorithm is based on a naive divide and conquer approach to matrix multiplication. It assumes n is a power of 2 (can be filled with 0's otherwise) noting,\n",
    "\n",
    "$$\n",
    "A = \n",
    " \\begin{pmatrix}\n",
    " \\begin{array}{c|c}\n",
    "  A_{11} & A_{12} \\\\\n",
    "  \\hline\n",
    "  A_{21} & A_{22}  \\\\\n",
    " \\end{array}\n",
    " \\end{pmatrix}\n",
    "$$\n",
    "\n",
    "and\n",
    "\n",
    "$$\n",
    "B = \n",
    " \\begin{pmatrix}\n",
    " \\begin{array}{c|c}\n",
    "  B_{11} & B_{12} \\\\\n",
    "  \\hline\n",
    "  B_{21} & B_{22}  \\\\\n",
    " \\end{array}\n",
    " \\end{pmatrix}\n",
    "$$\n",
    "\n",
    "Then, \n",
    "\n",
    "$$\n",
    "C = AB = \n",
    " \\begin{pmatrix}\n",
    " \\begin{array}{c|c}\n",
    "  A_{11}B_{11} + A_{12}B_{21} & A_{11}B_{12} + A_{12}B_{22} \\\\\n",
    "  \\hline\n",
    "  A_{21}B_{11} + A_{22}B_{21} & A_{21}B_{12} + A_{22}B_{22}  \\\\\n",
    " \\end{array}\n",
    " \\end{pmatrix}\n",
    "$$\n",
    "\n",
    "\n",
    "Note: this naive algorithm results in an identical $\\Theta (n^3)$ runtime (infact it calculates the identical products)."
   ]
  },
  {
   "cell_type": "markdown",
   "metadata": {},
   "source": [
    "Strassens algorithm uses a 'trick' in the classic divide and conquer appproach. It calculates the following 7 matrices;\n",
    "\n",
    "$$\n",
    "\\begin{aligned}\n",
    "& P_1 = (A_{11} + A_{22}) (B_{11} + B_{22})\\\\\n",
    "& P_2 = (A_{21} + A_{22}) B_{11}\\\\ \n",
    "& P_3 = A_{11} (B_{12} - B_{22})\\\\\n",
    "& P_4 = A_{22}(- B_{11} + B_{21})\\\\\n",
    "& P_5 = (A_{11} + A_{12}) B_{22}\\\\\n",
    "& P_6 = (- A_{11} + A_{12}) (B_{12}\\\\\n",
    "& P_7 = (A_{11} - A_{22}) (B_{21} + B_{22})\n",
    "\\end{aligned}\n",
    "$$\n",
    "\n",
    "Which can be combined in the following ways to reach the result,\n",
    "\n",
    "$$\n",
    "\\begin{aligned}\n",
    "& C_{11} = P_1 + P_4 - P_5 + P_7\\\\\n",
    "& C_{12} = P_3 + P_5\\\\\n",
    "& C_{21} = P_2 + P_4\\\\\n",
    "& C_{22} = P_1 + P_3 - P_2 + P_6\\\\\n",
    "\\end{aligned}\n",
    "$$\n",
    "\n",
    "Note: Strassens algorithm is only efficient for large matrices and will be outperformed by naive matrix multiplication for small inputs."
   ]
  },
  {
   "cell_type": "markdown",
   "metadata": {},
   "source": [
    "### Running time of Strassens Algorithm"
   ]
  },
  {
   "cell_type": "markdown",
   "metadata": {},
   "source": [
    "- Splitting into the 7 submatrices recursivly requires $7 T(n/2) + \\Theta (n^2)$\n",
    "- Combining into quadrants to produce the final result takes $ 8(n/2)^2 = \\Theta (n^2)$. (8 addition operations on matrices size $n/2$))\n",
    "\n",
    "\n",
    "This gives the recurrence:\n",
    "$$\n",
    "\\begin{aligned}\n",
    "& T(n) = 7 T(n/2) + \\Theta (n^2) + \\Theta (n^2)\\\\ \n",
    "& T(n) = 7 T(n/2) + \\Theta (n^2)\\\\\n",
    "\\end{aligned}\n",
    "$$\n",
    "\n",
    "Since $\\log_2(7) = 2.807... (> 2)$, the Master Theorem gives us,\n",
    "\n",
    "$$\n",
    "\\underline{T(n) = \\Theta(n^{\\log(7)})}\n",
    "$$"
   ]
  },
  {
   "cell_type": "markdown",
   "metadata": {},
   "source": [
    "## Implementation\n",
    "---"
   ]
  },
  {
   "cell_type": "code",
   "execution_count": 4,
   "metadata": {},
   "outputs": [
    {
     "ename": "NameError",
     "evalue": "name 'aN' is not defined",
     "output_type": "error",
     "traceback": [
      "\u001b[0;31m---------------------------------------------------------------------------\u001b[0m",
      "\u001b[0;31mNameError\u001b[0m                                 Traceback (most recent call last)",
      "\u001b[0;32m<ipython-input-4-7f9ceafa9c4b>\u001b[0m in \u001b[0;36m<module>\u001b[0;34m\u001b[0m\n\u001b[1;32m     59\u001b[0m \u001b[0mB\u001b[0m \u001b[0;34m=\u001b[0m \u001b[0;34m[\u001b[0m\u001b[0;34m[\u001b[0m\u001b[0;36m4\u001b[0m\u001b[0;34m,\u001b[0m\u001b[0;36m3\u001b[0m\u001b[0;34m]\u001b[0m\u001b[0;34m,\u001b[0m\u001b[0;34m[\u001b[0m\u001b[0;36m2\u001b[0m\u001b[0;34m,\u001b[0m\u001b[0;36m1\u001b[0m\u001b[0;34m]\u001b[0m\u001b[0;34m]\u001b[0m\u001b[0;34m\u001b[0m\u001b[0;34m\u001b[0m\u001b[0m\n\u001b[1;32m     60\u001b[0m \u001b[0;34m\u001b[0m\u001b[0m\n\u001b[0;32m---> 61\u001b[0;31m \u001b[0mstrassen\u001b[0m\u001b[0;34m(\u001b[0m\u001b[0mA\u001b[0m\u001b[0;34m,\u001b[0m\u001b[0mB\u001b[0m\u001b[0;34m)\u001b[0m\u001b[0;34m\u001b[0m\u001b[0;34m\u001b[0m\u001b[0m\n\u001b[0m",
      "\u001b[0;32m<ipython-input-4-7f9ceafa9c4b>\u001b[0m in \u001b[0;36mstrassen\u001b[0;34m(mA, mB)\u001b[0m\n\u001b[1;32m     19\u001b[0m     \u001b[0mn2\u001b[0m \u001b[0;34m=\u001b[0m \u001b[0mlen\u001b[0m\u001b[0;34m(\u001b[0m\u001b[0mmB\u001b[0m\u001b[0;34m)\u001b[0m\u001b[0;34m\u001b[0m\u001b[0;34m\u001b[0m\u001b[0m\n\u001b[1;32m     20\u001b[0m     \u001b[0;32mglobal\u001b[0m \u001b[0maN\u001b[0m\u001b[0;34m\u001b[0m\u001b[0;34m\u001b[0m\u001b[0m\n\u001b[0;32m---> 21\u001b[0;31m     \u001b[0;32mif\u001b[0m\u001b[0;34m(\u001b[0m\u001b[0mn1\u001b[0m \u001b[0;32mand\u001b[0m \u001b[0mn2\u001b[0m \u001b[0;34m<=\u001b[0m \u001b[0maN\u001b[0m\u001b[0;34m)\u001b[0m\u001b[0;34m:\u001b[0m\u001b[0;34m\u001b[0m\u001b[0;34m\u001b[0m\u001b[0m\n\u001b[0m\u001b[1;32m     22\u001b[0m         \u001b[0;32mreturn\u001b[0m \u001b[0;34m(\u001b[0m\u001b[0mmA\u001b[0m \u001b[0;34m*\u001b[0m \u001b[0mmB\u001b[0m\u001b[0;34m)\u001b[0m\u001b[0;34m\u001b[0m\u001b[0;34m\u001b[0m\u001b[0m\n\u001b[1;32m     23\u001b[0m     \u001b[0;32melse\u001b[0m\u001b[0;34m:\u001b[0m\u001b[0;34m\u001b[0m\u001b[0;34m\u001b[0m\u001b[0m\n",
      "\u001b[0;31mNameError\u001b[0m: name 'aN' is not defined"
     ]
    }
   ],
   "source": [
    "import numpy as np\n",
    "\n",
    "def partitionMatrix(matrix):\n",
    "    length = len(matrix)\n",
    "    if(length % 2 is not 0):\n",
    "        stack = []\n",
    "        for x in range(length + 1):\n",
    "            stack.append(float(0))\n",
    "        length += 1\n",
    "        matrix = np.insert(matrix, len(matrix), values=0, axis=1)\n",
    "        matrix = np.vstack([matrix, stack])\n",
    "    d = (length // 2)\n",
    "    matrix = matrix.reshape(length, length)\n",
    "    completedPartition = [matrix[:d, :d], matrix[d:, :d], matrix[:d, d:], matrix[d:, d:]]\n",
    "    return completedPartition\n",
    "\n",
    "def strassen(mA, mB):\n",
    "    n1 = len(mA)\n",
    "    n2 = len(mB)\n",
    "    global aN\n",
    "    if(n1 and n2 <= aN):\n",
    "        return (mA * mB)\n",
    "    else:\n",
    "        print(mA)\n",
    "        A = partitionMatrix(mA)\n",
    "        B = partitionMatrix(mB)\n",
    "        mc = np.matrix([0 for i in range(len(mA))]for j in range(len(mB)))\n",
    "        C = partitionMatrix(mc)\n",
    "\n",
    "\n",
    "        a11 = np.array(A[0])\n",
    "        a12 = np.array(A[2])\n",
    "        a21 = np.array(A[1])\n",
    "        a22 = np.array(A[3])\n",
    "\n",
    "        b11 = np.array(B[0])\n",
    "        b12 = np.array(B[2])\n",
    "        b21 = np.array(B[1])\n",
    "        b22 = np.array(B[3])\n",
    "\n",
    "        mone = np.array(strassen((a11 + a22), (b11 + b22)))\n",
    "        mtwo = np.array(strassen((a21 + a22), b11))\n",
    "        mthree = np.array(strassen(a11, (b12 - b22)))\n",
    "        mfour = np.array(strassen(a22, (b21 - b11)))\n",
    "        mfive = np.array(strassen((a11 + a12), b22))\n",
    "        msix = np.array(strassen((a21 - a11), (b11 + b12)))\n",
    "        mseven = np.array(strassen((a12 - a22), (b21 + b22)))\n",
    "\n",
    "        C[0] = np.array((mone + mfour - mfive + mseven))\n",
    "        C[2] = np.array((mthree + mfive))\n",
    "        C[1] = np.array((mtwo + mfour))\n",
    "        C[3] = np.array((mone - mtwo + mthree + msix))\n",
    "\n",
    "        return np.array(C)\n",
    "\n",
    "    \n",
    "# testing\n",
    "A = [[1,2],[3,4]]\n",
    "B = [[4,3],[2,1]]\n",
    "\n",
    "strassen(A,B)"
   ]
  },
  {
   "cell_type": "code",
   "execution_count": null,
   "metadata": {},
   "outputs": [],
   "source": []
  }
 ],
 "metadata": {
  "kernelspec": {
   "display_name": "Python3 - python",
   "language": "python",
   "name": "ipython_python"
  },
  "language_info": {
   "codemirror_mode": {
    "name": "ipython",
    "version": 3
   },
   "file_extension": ".py",
   "mimetype": "text/x-python",
   "name": "python",
   "nbconvert_exporter": "python",
   "pygments_lexer": "ipython3",
   "version": "3.7.7"
  }
 },
 "nbformat": 4,
 "nbformat_minor": 4
}
