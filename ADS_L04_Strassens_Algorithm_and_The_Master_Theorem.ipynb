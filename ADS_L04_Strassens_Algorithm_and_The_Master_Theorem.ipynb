{
 "cells": [
  {
   "cell_type": "markdown",
   "metadata": {},
   "source": [
    "# Algorithms and Data Structures\n",
    "Nathan Sharp | October 2020\n",
    "****\n",
    "\n",
    "# Lecture 4: Strassens Algorithm & The Master Theorem"
   ]
  },
  {
   "cell_type": "markdown",
   "metadata": {},
   "source": [
    "## The Master Theorem"
   ]
  },
  {
   "cell_type": "markdown",
   "metadata": {},
   "source": [
    "Useful in divide and conquer algorithms when you are splitting into $a$ subproblems all of size $n/b$.\n",
    "\n",
    "Let $n_0 \\in \\mathbb{N}, k \\in \\mathbb{N}_0$  and $a,b \\in \\mathbb{R}$ with $a > 0$  and $b > 1$, and let $T: \\mathbb{N} \\rightarrow \\mathbb{R}$ satisfy the following reccurence:\n",
    "\n",
    "$$\n",
    "T(n) =\n",
    "  \\begin{cases}\n",
    "    \\Theta (1)                     & \\quad \\text{if } n < n_0\\\\\n",
    "    a \\cdot T(n/b) + \\Theta (n^k)  & \\quad \\text{if } n \\geq n_0\n",
    "  \\end{cases}\n",
    "$$\n",
    "\n",
    "Let $c = \\log_b(a)$; where we call $c$ the '_critical exponent_'. Then,\n",
    "\n",
    "$$\n",
    "T(n) =\n",
    "\\begin{cases}\n",
    "  \\Theta (n^c)                & \\quad \\text{if } k < c  & \\quad (I)\\\\\n",
    "  \\Theta (n^c \\cdot \\log(n))  & \\quad \\text{if } k = c  & \\quad (II)\\\\ \n",
    "  \\Theta(n^k)                 & \\quad \\text{if } k > c  & \\quad (III)\n",
    "\\end{cases}\n",
    "$$\n",
    "\n",
    "The Theorem also holds if we replace $a \\cdot T(n/b)$ above with $a_1 \\cdot T(\\lfloor n/b \\rfloor) + a_2 \\cdot T(\\lceil n/b \\rceil)$ for any $a_1,a_2 \\geq 0$ with $a_1 + a_2 = a$."
   ]
  },
  {
   "cell_type": "markdown",
   "metadata": {},
   "source": [
    "## Matrix Multiplication"
   ]
  },
  {
   "cell_type": "code",
   "execution_count": 2,
   "metadata": {},
   "outputs": [
    {
     "data": {
      "text/plain": [
       "[[8, 5], [20, 13]]"
      ]
     },
     "execution_count": 2,
     "metadata": {},
     "output_type": "execute_result"
    }
   ],
   "source": [
    "def matMult(A,B):\n",
    "    \"\"\"Multiplies 2 square matrices\"\"\"             # Running Time\n",
    "    n = len(A)                                     # O(1)\n",
    "    C = [[j for j in range(n)] for i in range(n)]  # O(1)\n",
    "    for i in range(n):                             # O(n)\n",
    "        for j in range(n):                         # O(n)\n",
    "            Cij = 0                                # O(1)\n",
    "            for k in range(n):                     # O(n)\n",
    "                Cij += A[i][k] * B[k][j]           # O(1) (significant step)\n",
    "            C[i][j] = Cij                          # O(1)\n",
    "    return C                                       # O(1)\n",
    "\n",
    "# testing\n",
    "A = [[1,2],[3,4]]\n",
    "B = [[4,3],[2,1]]\n",
    "\n",
    "matMult(A,B)"
   ]
  },
  {
   "cell_type": "markdown",
   "metadata": {},
   "source": [
    "### Running Time of naive matrix multiplication"
   ]
  },
  {
   "cell_type": "markdown",
   "metadata": {},
   "source": [
    "$\\underline{T(n) \\in \\Theta (n^3)}$"
   ]
  },
  {
   "cell_type": "markdown",
   "metadata": {},
   "source": [
    "## Strassens Algorithm"
   ]
  },
  {
   "cell_type": "markdown",
   "metadata": {},
   "source": [
    "Strassens Algorithm is based on a naive divide and conquer approach to matrix multiplication. It assumes n is a power of 2 (can be filled with 0's otherwise) noting,\n",
    "\n",
    "$$\n",
    "A = \n",
    " \\begin{pmatrix}\n",
    " \\begin{array}{c|c}\n",
    "  A_{11} & A_{12} \\\\\n",
    "  \\hline\n",
    "  A_{21} & A_{22}  \\\\\n",
    " \\end{array}\n",
    " \\end{pmatrix}\n",
    "$$\n",
    "\n",
    "and\n",
    "\n",
    "$$\n",
    "B = \n",
    " \\begin{pmatrix}\n",
    " \\begin{array}{c|c}\n",
    "  B_{11} & B_{12} \\\\\n",
    "  \\hline\n",
    "  B_{21} & B_{22}  \\\\\n",
    " \\end{array}\n",
    " \\end{pmatrix}\n",
    "$$\n",
    "\n",
    "Then, \n",
    "\n",
    "$$\n",
    "C = AB = \n",
    " \\begin{pmatrix}\n",
    " \\begin{array}{c|c}\n",
    "  A_{11}B_{11} + A_{12}B_{21} & A_{11}B_{12} + A_{12}B_{22} \\\\\n",
    "  \\hline\n",
    "  A_{21}B_{11} + A_{22}B_{21} & A_{21}B_{12} + A_{22}B_{22}  \\\\\n",
    " \\end{array}\n",
    " \\end{pmatrix}\n",
    "$$\n",
    "\n",
    "\n",
    "Note: this naive algorithm results in an identical $\\Theta (n^3)$ runtime (infact it calculates the identical products)."
   ]
  },
  {
   "cell_type": "markdown",
   "metadata": {},
   "source": [
    "Strassens algorithm uses a 'trick' in the classic divide and conquer appproach. It calculates the following 7 matrices;\n",
    "\n",
    "$$\n",
    "\\begin{aligned}\n",
    "& P_1 = (A_{11} + A_{22}) (B_{11} + B_{22})\\\\\n",
    "& P_2 = (A_{21} + A_{22}) B_{11}\\\\ \n",
    "& P_3 = A_{11} (B_{12} - B_{22})\\\\\n",
    "& P_4 = A_{22}(- B_{11} + B_{21})\\\\\n",
    "& P_5 = (A_{11} + A_{12}) B_{22}\\\\\n",
    "& P_6 = (- A_{11} + A_{12}) (B_{12}\\\\\n",
    "& P_7 = (A_{11} - A_{22}) (B_{21} + B_{22})\n",
    "\\end{aligned}\n",
    "$$\n",
    "\n",
    "Which can be combined in the following ways to reach the result,\n",
    "\n",
    "$$\n",
    "\\begin{aligned}\n",
    "& C_{11} = P_1 + P_4 - P_5 + P_7\\\\\n",
    "& C_{12} = P_3 + P_5\\\\\n",
    "& C_{21} = P_2 + P_4\\\\\n",
    "& C_{22} = P_1 + P_3 - P_2 + P_6\\\\\n",
    "\\end{aligned}\n",
    "$$\n",
    "\n",
    "Note: Strassens algorithm is only efficient for large matrices and will be outperformed by naive matrix multiplication for small inputs."
   ]
  },
  {
   "cell_type": "code",
   "execution_count": 13,
   "metadata": {},
   "outputs": [],
   "source": [
    "def strassen(A,B):\n",
    "    \"\"\"Multiplies 2 square matrices using Strassens algorithm\"\"\"\n",
    "    return C"
   ]
  },
  {
   "cell_type": "markdown",
   "metadata": {},
   "source": [
    "### Running time of Strassens Algorithm"
   ]
  },
  {
   "cell_type": "markdown",
   "metadata": {},
   "source": [
    "- Splitting into the 7 submatrices recursivly requires $7 T(n/2) + \\Theta (n^2)$\n",
    "- Combining into quadrants to produce the final result takes $ 8(n/2)^2 = \\Theta (n^2)$. (8 addition operations on matrices size $n/2$))\n",
    "\n",
    "\n",
    "This gives the recurrence:\n",
    "$$\n",
    "\\begin{aligned}\n",
    "& T(n) = 7 T(n/2) + \\Theta (n^2) + \\Theta (n^2)\\\\ \n",
    "& T(n) = 7 T(n/2) + \\Theta (n^2)\\\\\n",
    "\\end{aligned}\n",
    "$$\n",
    "\n",
    "Since $\\log_2(7) = 2.807... (> 2)$, the Master Theorem gives us,\n",
    "\n",
    "$$\n",
    "\\underline{T(n) = \\Theta(n^{\\log(7)})}\n",
    "$$"
   ]
  },
  {
   "cell_type": "markdown",
   "metadata": {},
   "source": [
    "### Comparing Strassens algorithm with naive matrix multiplication"
   ]
  },
  {
   "cell_type": "code",
   "execution_count": 11,
   "metadata": {},
   "outputs": [],
   "source": [
    "# do some runtime testing"
   ]
  }
 ],
 "metadata": {
  "kernelspec": {
   "display_name": "Python 3",
   "language": "python",
   "name": "python3"
  },
  "language_info": {
   "codemirror_mode": {
    "name": "ipython",
    "version": 3
   },
   "file_extension": ".py",
   "mimetype": "text/x-python",
   "name": "python",
   "nbconvert_exporter": "python",
   "pygments_lexer": "ipython3",
   "version": "3.7.7"
  }
 },
 "nbformat": 4,
 "nbformat_minor": 4
}
