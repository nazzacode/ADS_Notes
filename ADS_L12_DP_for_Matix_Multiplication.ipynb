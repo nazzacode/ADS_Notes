{
 "cells": [
  {
   "cell_type": "markdown",
   "metadata": {},
   "source": [
    "# Algorithms and Data Structures\n",
    "Nathan Sharp | October 2020\n",
    "***\n",
    "\n",
    "# Lecture 12: Dynamic Programming for Matix Multiplication"
   ]
  },
  {
   "cell_type": "markdown",
   "metadata": {},
   "source": [
    "## Dynamic programming\n",
    "---"
   ]
  },
  {
   "cell_type": "markdown",
   "metadata": {},
   "source": [
    "_Intuition:_ putting lots of easy steps together. \n",
    "\n",
    "1. Start with smaller subproblems (similar to recursion)\n",
    "2. Combine the solutions of smaller subproblems into larger ones keeping track of previously solved subproblems"
   ]
  },
  {
   "cell_type": "markdown",
   "metadata": {},
   "source": [
    "## Fibonacci\n",
    "---"
   ]
  },
  {
   "cell_type": "markdown",
   "metadata": {},
   "source": [
    "- see notes for half an hour of my life wasted on a fibonacci algorithm that I definatly haven't seen before. "
   ]
  },
  {
   "cell_type": "markdown",
   "metadata": {},
   "source": [
    "## Multiplying Sequences of Matrices\n",
    "---"
   ]
  },
  {
   "cell_type": "markdown",
   "metadata": {},
   "source": [
    "_Note:_  multiplying matrices of $(p \\times q)$ and $(q \\times r)$ takes $pqr$ multplications\n",
    "\n",
    "_Task:_ We want to compute $A_1 \\cdot A_2 \\cdot \\cdots \\cdot A_n$. Where should we put the brackets to minimise the number of multiplications?"
   ]
  },
  {
   "cell_type": "markdown",
   "metadata": {},
   "source": [
    "### Example\n",
    "\n",
    "For matrix dimentions: $A = (30 \\times 1)$,  $B = (1 \\times 40)$,  $C = (40 \\times 10)$,  $D = (10 \\times 25)$. Calculate $A \\cdot B \\cdot C \\cdot D$.\n",
    "\n",
    "#### Multiplication Order 1: \n",
    "$$(A \\cdot B) \\cdot (C \\cdot D) \\implies (30 \\cdot 1 \\cdot 40) + (40 \\cdot 10 \\cdot 25) + (30 \\cdot 40 \\cdot 25)= 41,000$$\n",
    "\n",
    "#### Multiplication Order 2: \n",
    "$$A \\cdot ((B \\cdot C) \\cdot D) \\implies (1 \\cdot 40 \\cdot 10) + (1 \\cdot 10 \\cdot 25) + (30 \\cdot 1 \\cdot 25)= 1,400$$"
   ]
  },
  {
   "cell_type": "markdown",
   "metadata": {},
   "source": [
    "## The Matrix Chain Multiplication Problem\n",
    "---"
   ]
  },
  {
   "cell_type": "markdown",
   "metadata": {},
   "source": [
    "What is the optimal number of multiplications needed to calulate $A_1 \\cdot A_2, \\cdots A_n$ and an optimal parenthisation to realise this?\n",
    "\n",
    "- solution in next lecture ;)"
   ]
  }
 ],
 "metadata": {
  "kernelspec": {
   "display_name": "Python3 - python",
   "language": "python",
   "name": "ipython_python"
  },
  "language_info": {
   "codemirror_mode": {
    "name": "ipython",
    "version": 3
   },
   "file_extension": ".py",
   "mimetype": "text/x-python",
   "name": "python",
   "nbconvert_exporter": "python",
   "pygments_lexer": "ipython3",
   "version": "3.7.7"
  }
 },
 "nbformat": 4,
 "nbformat_minor": 4
}
