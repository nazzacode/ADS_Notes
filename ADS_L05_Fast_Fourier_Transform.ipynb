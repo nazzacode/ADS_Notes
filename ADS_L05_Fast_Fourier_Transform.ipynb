{
 "cells": [
  {
   "cell_type": "markdown",
   "metadata": {},
   "source": [
    "# Algorithms and Data Structures\n",
    "Nathan Sharp | October 2020\n",
    "****\n",
    "\n",
    "# Lecture 5: Fast Fourier Transform"
   ]
  },
  {
   "cell_type": "markdown",
   "metadata": {},
   "source": [
    "## Roots of Unity\n",
    "***"
   ]
  },
  {
   "cell_type": "markdown",
   "metadata": {},
   "source": [
    "> ### Roots of Unity\n",
    "> ###### __DEFINITION__\n",
    "> For any positive integer $n$, the $n^{th}$ __roots of unity__ are the complex solutions to the equation $x^n = 1$, and there are $n$ solutions to the equation.\n",
    ">\n",
    "> ###### __DEFINITION__\n",
    "> Eulers formula can be used to find the $n^{th}$ roots of unity for any positive integer $n$\n",
    ">\n",
    ">   $$ e^{ix} = cis(x) = cos(x) + \\mathit{i} sin(x) $$\n",
    ">\n",
    "> ###### __THEOREM__\n",
    "> The set $U_n$ of all $n_{th}$ roots of unity can be found by\n",
    ">\n",
    ">   $$ U_n = \\{e^{2k \\pi i / n} \\ | k \\in \\{1,2,...,n\\}\\}$$   \n",
    ">    For more: https://brilliant.org/wiki/roots-of-unity/"
   ]
  },
  {
   "cell_type": "markdown",
   "metadata": {},
   "source": [
    "$x^n = 1$ has $n$ solutions in the complex numbers. They may be written $ 1,\\omega_n, \\omega_n^2,...,\\omega_n^{n-1}$ where $\\omega_n$ is the __principal $nth$ root of unity__:\n",
    "\n",
    "$$ \\omega_n = cos(2 \\pi / n) + i sin(2 \\pi / n) $$\n",
    "\n",
    "<img src=\"./Images/roots_of_unity_inverse.png\" alt=\"roots_of_unity\" align=\"center\" style=\"width: 600px;\"/>"
   ]
  },
  {
   "cell_type": "markdown",
   "metadata": {},
   "source": [
    "## The Discrete Fourier Transform (DFT)\n",
    "***"
   ]
  },
  {
   "cell_type": "markdown",
   "metadata": {},
   "source": [
    "> ### The Fourier Tansform\n",
    "> #### Key Idea\n",
    "> How to decompose complex waves into pure signals.\n",
    ">\n",
    "> #### Intuition\n",
    "> 'Wrap' a wave round a circle, when the winding frequency = frequency of the wave, the center of mass on the winding graph will be maximmally off centre. Complex waves will 'line up' and produce spikes in the graph of the offset of the center of mass at core decomposiition frequencies. \n",
    "> (you can also inverse fourier transform by essentially reapplying).\n",
    ">\n",
    "> ![title](./Images/fourier1.png)\n",
    ">\n",
    "> ###### __DEFINITION__\n",
    "> $$ \\hat{g}(f) =\\int_{t_1}^{t_2} g(t)e^{-2 \\pi i ft}\\,dt$$\n",
    "> \n",
    "> For more: https://www.youtube.com/watch?v=spUNpyF58BY"
   ]
  },
  {
   "cell_type": "markdown",
   "metadata": {},
   "source": [
    "### Key Idea\n",
    "Mapping between time and frequency domains/multipying polynomials"
   ]
  },
  {
   "cell_type": "markdown",
   "metadata": {},
   "source": [
    "###### __DEFINITION__\n",
    "The DFT maps tuple $(a_0,...a_{n-1})$ to the tuple $(y_0,...,y_{n-1})$ defined by\n",
    "\n",
    "$$y_k = \\sum_{k=0}^{n-1} a_k \\cdot \\omega_{n}^{jk}$$\n",
    "\n",
    "Where $y_j$ is the $j^{th}$ elements of the output tuple and $\\omega_n^{jk}$ can be rewritten as $e^{\\frac{i 2 \\pi k j}{n}}$"
   ]
  },
  {
   "cell_type": "markdown",
   "metadata": {},
   "source": [
    "### Use Cases\n",
    "signal processing, cyclic string matching, image compression, noise removal, fundamental to many aplications!"
   ]
  },
  {
   "cell_type": "markdown",
   "metadata": {},
   "source": [
    "### Input\n",
    "A sequence of complex numbers (assuming $n$ is a power of 2) $$a_0,a_1,...,a_{n-1}$$ "
   ]
  },
  {
   "cell_type": "markdown",
   "metadata": {},
   "source": [
    "### Output\n",
    "The sequence of complex numbers\n",
    "\n",
    "$$\n",
    "\\begin{equation}\n",
    "  A(1), A(\\omega_{n}), A(\\omega_{n}^2),...,A(\\omega_{n}^{n-1})\n",
    "\\end{equation}\n",
    "$$\n",
    "\n",
    "where\n",
    "\n",
    "$$\n",
    "\\begin{equation}\n",
    "  A(x) = a_0 + a_1 x + a_2 x^2 + \\dots + a_{n-1} x^{n-1}\n",
    "\\end{equation}\n",
    "$$\n"
   ]
  },
  {
   "cell_type": "markdown",
   "metadata": {},
   "source": [
    "### Naive Algorithm\n",
    "There's an obvious $\\Theta (n^2)$ algorithm (matrix multiplication), but the Fast Fourier Transform (FFT) does it in $\\Theta (n \\log n)$."
   ]
  },
  {
   "cell_type": "markdown",
   "metadata": {},
   "source": [
    "## Fast Fourier Transform (FFT)\n",
    "---"
   ]
  },
  {
   "cell_type": "markdown",
   "metadata": {},
   "source": [
    "### Sneak Preview"
   ]
  },
  {
   "cell_type": "markdown",
   "metadata": {},
   "source": [
    "1. Make 2 recursive calls computing the vales of $A_{even}(y)$ and $A_{odd}(y)$ at the (n/2) points $1,\\omega_{n/2}, \\omega_{n/2}^2,...,\\omega_{n/2}^{n/2-1}$.\n",
    "2. Compute the values of $(1)$ using the equation  $A(x) = A_{even}(x^2) + x  \\cdot A_{odd}(x^2).$"
   ]
  },
  {
   "cell_type": "markdown",
   "metadata": {},
   "source": [
    "### Recursive Construction"
   ]
  },
  {
   "cell_type": "markdown",
   "metadata": {},
   "source": [
    "We are interested in evaluating $(1)$. Following a divide-and-conquer approach, split $A$ into $even$ and $odd$ polynomial indexes as follows, \n",
    "\n",
    "$$\n",
    "\\begin{aligned}\n",
    "& A_{even}(y) &= a_0 + a_2 y + ... + a_{n-2} y^{n/2-1}\\\\\n",
    "& A_{odd}(y)  &= a_1 + a_3 y + ... + a_{n-1} y^{n/2-1}\n",
    "\\end{aligned}\n",
    "$$"
   ]
  },
  {
   "cell_type": "markdown",
   "metadata": {},
   "source": [
    "so that to reconstruct our original funciton (set $y$ to $x^2$)\n",
    "\n",
    "$$\n",
    "\\begin{equation}\n",
    "  A(x) = A_{even}(x^2) + x  \\cdot A_{odd}(x^2).\n",
    "\\end{equation}\n",
    "$$\n",
    "\n",
    "Note: both new polynomials have degree half of the original."
   ]
  },
  {
   "cell_type": "markdown",
   "metadata": {},
   "source": [
    "Hence to evaluate $(1)$, we can evaluate $A_{even}(y)$ and $A_{odd}(y)$ at the points $1,\\omega_n^2, \\omega_n^4,...,\\omega_n^{2(n-1)}$"
   ]
  },
  {
   "cell_type": "markdown",
   "metadata": {},
   "source": [
    "### Showing $(3)$ is the DFT w.r.t $n/2$"
   ]
  },
  {
   "cell_type": "markdown",
   "metadata": {},
   "source": [
    "Assuming n is even, we have\n",
    "$$\n",
    "\\begin{align*}\n",
    "  & \\omega_n^2 = (e^{\\frac{2\\pi i}{n}})^2 = e^{\\frac{2\\pi i}{n/2}} = \\omega_{n/2} \\text{ , and}\\\\\n",
    "  & \\omega_n^{n/2} = (e^{\\frac{2\\pi i}{n}})^{n/2} = e^{\\pi i} = -1\n",
    "\\end{align*}\n",
    "$$\n",
    "\n",
    "Conclusion: $\\omega_n$ and $\\omega_{n/2}$ are both circulating the unit circle with a frequency difference of 1/2 ($\\omega_n^m = \\omega_{n/2}^{m/2}$)"
   ]
  },
  {
   "cell_type": "markdown",
   "metadata": {},
   "source": [
    "### Operation Reduction for Algorithmic Efficiency"
   ]
  },
  {
   "cell_type": "markdown",
   "metadata": {},
   "source": [
    "From (3) we can construct $\\omega_n^2$  with two 'sweeps' of $A_{odd}(x), A_{even}(x)$ at the $n/2$th roots. This gives us\n",
    "\n",
    "$$ \n",
    "\\begin{align*}\n",
    "  A(1) &= A_{even}(1) + 1 \\cdot A_{odd}(1)\\\\\n",
    "  A(\\omega_n) &= A_{even}(\\omega_n^2) + \\omega_n A_{odd}(\\omega_n^2)\\\\\n",
    "              &= A_{even}(\\omega_{n/2}) + \\omega_n A_{odd}(\\omega_{n/2})\\\\\n",
    "  A(\\omega_n^2) &= A_{even}(\\omega_{n/2}^2) + \\omega_n^2 A_{odd}(\\omega_{n/2}^2)\\\\\n",
    "              & \\vdots\\\\\n",
    "  A(\\omega_n^{n/2-1}) &= A_{even}(\\omega_{n/2}^{n/2-1}) + \\omega_n^2 A_{odd}(\\omega_{n/2}^2)\\\\\n",
    "              & \\vdots \\\\\n",
    "  A(\\omega_n^{n/2}) &= A_{even}(1) - 1 \\cdot A_{odd}(1)\\\\\n",
    "  A(\\omega_n^{n/2+1}) &= A_{even}(\\omega_{n/2}) - \\omega_n A_{odd}(\\omega_n^{n/2})\\\\\n",
    "  A(\\omega_n) &= A_{even}(\\omega_{n/2}^2) - \\omega_n^2 A_{odd}(\\omega_{n/2}^2)\\\\\n",
    "              & \\vdots\\\\\n",
    "  A(\\omega_n^{n-1}) &= A_{even}(\\omega_{n/2}^{n/2-1}) - \\omega_n^{n/2-1} A_{odd} (\\omega_{n/2}^{n/2-1})\\\\\n",
    "\\end{align*}\n",
    "$$\n",
    "\n",
    "Note that the coefficient on $x A_{odd}(x^2)$ stay positive until $x = \\omega_n^{n/2}$."
   ]
  },
  {
   "cell_type": "markdown",
   "metadata": {},
   "source": [
    "### Intuition\n",
    "The computational efficiency comes from the symetry of reflecting the results from the first $\\pi$ radians of the unit circle to the second half, all calculated with multiplication of polynomials degree n/2 of the orginal."
   ]
  },
  {
   "cell_type": "markdown",
   "metadata": {},
   "source": [
    "### Pseudocode "
   ]
  },
  {
   "cell_type": "markdown",
   "metadata": {},
   "source": [
    "<img src=\"./Images/fft_pseudocode.png\" alt=\"pseudocode\" align=\"center\" style=\"width: 600px;\"/>\n",
    "\n",
    "Assumes n is a power of 2. Generaly we can use padding to make n a power of 2."
   ]
  },
  {
   "cell_type": "markdown",
   "metadata": {},
   "source": [
    "### Runtime Analysis"
   ]
  },
  {
   "cell_type": "markdown",
   "metadata": {},
   "source": [
    "Lines 1-4: $\\Theta(1)$\\\n",
    "Lines 5-6: $\\Theta(1) + 2T(n/2)$\\\n",
    "Loop 7-10: $\\Theta(n)$\\\n",
    "Line 11: $\\Theta(1)$\n",
    "\n",
    "Yeilding the recurrence:\n",
    "  $$T(n) = 2T(n/2) + \\Theta(n)$$\n",
    "\n",
    "Solution:\n",
    "  $$\\underline{T(n) = \\Theta(n \\cdot \\log(n)))}$$\n",
    "\n",
    "BOOM.\n"
   ]
  },
  {
   "cell_type": "markdown",
   "metadata": {},
   "source": [
    "### Python Implemention"
   ]
  },
  {
   "cell_type": "code",
   "execution_count": 1,
   "metadata": {},
   "outputs": [],
   "source": [
    "def fastFourierTransform():\n",
    "    return "
   ]
  },
  {
   "cell_type": "markdown",
   "metadata": {},
   "source": [
    "## Apendices"
   ]
  },
  {
   "cell_type": "code",
   "execution_count": 3,
   "metadata": {},
   "outputs": [
    {
     "data": {
      "application/javascript": [
       "MathJax.Hub.Config({\n",
       "    TeX: { equationNumbers: { autoNumber: \"AMS\" } }\n",
       "});\n"
      ],
      "text/plain": [
       "<IPython.core.display.Javascript object>"
      ]
     },
     "metadata": {},
     "output_type": "display_data"
    }
   ],
   "source": [
    "%%javascript\n",
    "MathJax.Hub.Config({\n",
    "    TeX: { equationNumbers: { autoNumber: \"AMS\" } }\n",
    "});"
   ]
  },
  {
   "cell_type": "code",
   "execution_count": 4,
   "metadata": {},
   "outputs": [
    {
     "data": {
      "application/javascript": [
       "MathJax.Hub.Queue(\n",
       "  [\"resetEquationNumbers\", MathJax.InputJax.TeX],\n",
       "  [\"PreProcess\", MathJax.Hub],\n",
       "  [\"Reprocess\", MathJax.Hub]\n",
       ");\n"
      ],
      "text/plain": [
       "<IPython.core.display.Javascript object>"
      ]
     },
     "metadata": {},
     "output_type": "display_data"
    }
   ],
   "source": [
    "%%javascript\n",
    "MathJax.Hub.Queue(\n",
    "  [\"resetEquationNumbers\", MathJax.InputJax.TeX],\n",
    "  [\"PreProcess\", MathJax.Hub],\n",
    "  [\"Reprocess\", MathJax.Hub]\n",
    ");"
   ]
  },
  {
   "cell_type": "code",
   "execution_count": null,
   "metadata": {},
   "outputs": [],
   "source": []
  }
 ],
 "metadata": {
  "kernelspec": {
   "display_name": "Python 3",
   "language": "python",
   "name": "python3"
  },
  "language_info": {
   "codemirror_mode": {
    "name": "ipython",
    "version": 3
   },
   "file_extension": ".py",
   "mimetype": "text/x-python",
   "name": "python",
   "nbconvert_exporter": "python",
   "pygments_lexer": "ipython3",
   "version": "3.7.7"
  }
 },
 "nbformat": 4,
 "nbformat_minor": 4
}
