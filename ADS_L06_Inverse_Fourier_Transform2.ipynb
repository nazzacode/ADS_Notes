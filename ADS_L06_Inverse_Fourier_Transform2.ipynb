{
 "cells": [
  {
   "cell_type": "markdown",
   "metadata": {},
   "source": [
    "# Algorithms and Data Structures\n",
    "Nathan Sharp | October 2020\n",
    "***\n",
    "\n",
    "# Lecture 6: Inverse Fourier Transform"
   ]
  },
  {
   "cell_type": "markdown",
   "metadata": {},
   "source": [
    "Note: For the inverse DFT to exist the DFT must be injective (one-to-one and onto)."
   ]
  },
  {
   "cell_type": "markdown",
   "metadata": {},
   "source": [
    "## Inverse Fourier Transform\n",
    "---"
   ]
  },
  {
   "cell_type": "markdown",
   "metadata": {},
   "source": [
    "### Matrix Representation of the DFT \n",
    "$DFT_n$ is a linear mapping described by the matrix multplication using defined matrix $V_n$\n",
    "\n",
    "$$ \n",
    "V_n =\n",
    "\\begin{pmatrix} \n",
    "1 & 1 & 1 & \\cdots & 1 \\\\\n",
    "1 & \\omega_n & \\omega_n^2 & \\cdots & \\omega_n^{n-1} \\\\\n",
    "1 & \\omega_n^2 & \\omega_n^4 & \\cdots & \\omega_n^{2n-1} \\\\\n",
    "\\vdots & \\vdots & \\vdots & \\ddots & \\vdots \\\\\n",
    "1 & \\omega_n^{n-1} & \\omega_n^{2n-1} & \\cdots & \\omega_n^{(n-1)(n-1)}\\\\\n",
    "\\end{pmatrix}\\\\\n",
    "V_n\n",
    "\\begin{pmatrix} \n",
    "a_0 \\\\\n",
    "\\vdots \\\\\n",
    "a_n \\\\\n",
    "\\end{pmatrix}\n",
    "= \n",
    "\\begin{pmatrix} \n",
    "y_0 \\\\\n",
    "\\vdots \\\\\n",
    "y_n \\\\\n",
    "\\end{pmatrix}\n",
    "$$"
   ]
  },
  {
   "cell_type": "markdown",
   "metadata": {},
   "source": [
    "### Inverse of DFT"
   ]
  },
  {
   "cell_type": "markdown",
   "metadata": {},
   "source": [
    "Aim is to go back from $(y_0,...,y_{n-1})$ to $(a_0,...,a_{n-1})$. But is the DFT invertable, and can we compute it ($DFT_n^{-1}$) efficiently."
   ]
  },
  {
   "cell_type": "markdown",
   "metadata": {},
   "source": [
    "###### __THEOREM__\n",
    "A matrix is invertable iff it has _full rank_."
   ]
  },
  {
   "cell_type": "markdown",
   "metadata": {},
   "source": [
    ">###### __DEFINITON__\n",
    ">A matrix is __full rank__ if all its row vectors are linearly independent \n",
    ">(you cannot get a row vector my multiplying another vector by some constant)."
   ]
  },
  {
   "cell_type": "markdown",
   "metadata": {},
   "source": [
    "###### __COROLLARY__\n",
    "Our multiplication matrix $(V_n)$ is a _van-der-Monde_ matrix and thus invertable."
   ]
  },
  {
   "cell_type": "markdown",
   "metadata": {},
   "source": [
    ">###### __DEFINITION__\n",
    ">A __Van-der-Monde matrix__ is a matrix with the terms of a geometric progression in each row"
   ]
  },
  {
   "cell_type": "markdown",
   "metadata": {},
   "source": [
    "\n",
    "As our matrix is invertable, we define the following inverse matrix\n",
    "\n",
    "$$ \n",
    "V_n^{-1} =\n",
    "\\frac{1}{n}\n",
    "\\begin{pmatrix} \n",
    "1 & 1 & 1 & \\cdots & 1 \\\\\n",
    "1 & \\omega_n^{-1} & \\omega_n^{-2} & \\cdots & \\omega_n^{-(n-1)} \\\\\n",
    "1 & \\omega_n^{-2} & \\omega_n^{-4} & \\cdots & \\omega_n^{-(2n-1)} \\\\\n",
    "\\vdots & \\vdots & \\vdots & \\ddots & \\vdots \\\\\n",
    "1 & \\omega_n^{-(n-1)} & \\omega_n^{-(2n-1)} & \\cdots & \\omega_n^{-(n-1)(n-1)}\\\\\n",
    "\\end{pmatrix}\n",
    "$$\n",
    "\n",
    "Note: We can prove this is the inverse matrix by multiplying with the original matrix to produce the indentity matrix."
   ]
  },
  {
   "cell_type": "markdown",
   "metadata": {},
   "source": [
    "### Inverse DFT Algorithm "
   ]
  },
  {
   "cell_type": "markdown",
   "metadata": {},
   "source": [
    "$DFT_n^{-1} \\begin{pmatrix} y_0 \\\\ \\vdots \\\\ y_{n-1} \\end{pmatrix} = V_n^{-1} \\cdot \\begin{pmatrix} y_0 \\\\ \\vdots \\\\ y_{n-1} \\end{pmatrix} = \\begin{pmatrix} a_0 \\\\ \\vdots \\\\ a_{n-1} \\end{pmatrix}$ "
   ]
  },
  {
   "cell_type": "markdown",
   "metadata": {},
   "source": [
    "### Efficinent Algorithm"
   ]
  },
  {
   "cell_type": "markdown",
   "metadata": {},
   "source": [
    "The inverse matrix is more or less a flipped DFT, $\\omega_n^{-1}$ is an nth root of unity (though not a principle one) with\n",
    "\n",
    "$$ (\\omega_n^{-1})^j = 1/\\omega_n^j = \\omega_n^n/\\omega_n^j = \\omega_n^{n-j}, \\quad \\forall \\, 0 \\leq j \\leq n$$"
   ]
  },
  {
   "cell_type": "markdown",
   "metadata": {},
   "source": [
    "Using this fact, the inverse is _precisely a reapplication_ of the FFT. To compute the inverse DFT, \n",
    "\n",
    "1. compute DFT($y_0,...,y_n$) to obtain result $(d_0,...,d_{n-1})$\n",
    "2. keeping the first element ($d_0$) at the head, flip output tuple $(d_1,d_2,...d_{n-1})$\n",
    "3. divide each term by n\n",
    "\n",
    "$$ a_i = \n",
    "\\begin{cases}\n",
    "\\frac{d_0}{n} & \\quad \\text{ if } i = 0\\\\\n",
    "\\frac{d_{n-i}}{n} & \\quad \\text{ if } 1 \\leq i \\leq n-1\n",
    "\\end{cases}\n",
    "$$"
   ]
  },
  {
   "cell_type": "markdown",
   "metadata": {},
   "source": [
    "### Running Time of Inverse FFT\n",
    "Obviously,\n",
    "\n",
    "$$\\underline{T(n) \\in \\Theta(n \\, \\log(n))}$$\n"
   ]
  },
  {
   "cell_type": "markdown",
   "metadata": {},
   "source": [
    "## Interpolation\n",
    "---"
   ]
  },
  {
   "cell_type": "markdown",
   "metadata": {},
   "source": [
    "### Intuition\n",
    "The DFT and its inverse are ways of converting between different ways of representing a polynomial."
   ]
  },
  {
   "cell_type": "markdown",
   "metadata": {},
   "source": [
    "###### __THEOREM__\n",
    "For pairwise distinct sets (not equal to each other) $\\alpha_0,...,\\alpha_{n-1} (\\alpha_k \\in \\mathbb{C})$ and $y_0,...,y_{n-1} (y_k \\in \\mathbb{C})$. Then there exists exactly one polynomial $P(x)$ of degree at most $n-1$ such that for $0 \\leq k \\leq n-1$ \n",
    "$$ p(\\alpha_k) = y_k$$"
   ]
  },
  {
   "cell_type": "markdown",
   "metadata": {},
   "source": [
    "###### __DEFINITOIN__\n",
    "The sequence $(\\alpha_0, y_0),...,(\\alpha_{n-1}, y_{n-1})$ is called a __point-value__ representation of the polynomial $p$. "
   ]
  },
  {
   "cell_type": "markdown",
   "metadata": {},
   "source": [
    "###### __DEFINITION__\n",
    "__Interpolation__ is the process of computing a polynomial from _point-value_ representation."
   ]
  },
  {
   "cell_type": "markdown",
   "metadata": {},
   "source": [
    "## Application: Multiplication of Large Polynomials\n",
    "***"
   ]
  },
  {
   "cell_type": "markdown",
   "metadata": {},
   "source": [
    "\n",
    "Computing the multiplication of 2 polynomials is easy if we have them in the _point-value_ representation (over sufficiently many points) as it allows us to recover $PQ(x)$ by _interpolation_\n",
    "\n",
    "$$ P(x)Q(x) = (\\alpha_0, y_0 z_0),...,(\\alpha_{n+m-2}, y_{n+m-2} z_{n+m-2})$$"
   ]
  },
  {
   "cell_type": "markdown",
   "metadata": {},
   "source": [
    "### The Process"
   ]
  },
  {
   "cell_type": "markdown",
   "metadata": {},
   "source": [
    "We take an indirect route to calculate the multiplication;\n",
    "1. Standard representation --> (Fourier Transform) --> point-value representation \n",
    "2. point-vaule representatoin --> (Multiply Values) --> point-value representation of product \n",
    "3. point-value product --> (Inverse Fouirer) --> standard representation of prodcut\n",
    "\n",
    "![title](./Images/polynomial_mult.png)"
   ]
  },
  {
   "cell_type": "markdown",
   "metadata": {},
   "source": [
    "### Running time of FFT Multiplication of Polynomials "
   ]
  },
  {
   "cell_type": "markdown",
   "metadata": {},
   "source": [
    "Let $n'$ be the smallest power of 2 such that $n' = n+m-1$. Unsing the $n'$th roots of unity as the evaluation points $\\alpha_0 = 1, \\alpha_1 = \\omega_{n'}, \\alpha_2 = \\omega_{n'}^2,..., a_{n'-1} = \\omega_{n'}^{n'-1}$. Then\n",
    "\n",
    "\\begin{align*}\n",
    "  T(n) & = \\text{FFT} + \\text{Pointwise Multplication} + \\text{Inverse FFT}\\\\\n",
    "       & = \\Theta(n' \\, \\log(n')) + \\Theta(n) + \\Theta(n' \\, \\log(n'))\\\\\n",
    "       & = \\Theta(n \\, \\log(n)) + \\Theta(n) + \\Theta(n \\, \\log(n)) \\quad \\text{as n' $\\leq$ 2n}\\\\\n",
    "       & =\\Theta(n \\, \\log(n)) \n",
    "\\end{align*}\n",
    "\n",
    "$$\\underline{T(n) =\\Theta(n \\, \\log(n))}$$"
   ]
  }
 ],
 "metadata": {
  "kernelspec": {
   "display_name": "Python3 - python",
   "language": "python",
   "name": "ipython_python"
  },
  "language_info": {
   "codemirror_mode": {
    "name": "ipython",
    "version": 3
   },
   "file_extension": ".py",
   "mimetype": "text/x-python",
   "name": "python",
   "nbconvert_exporter": "python",
   "pygments_lexer": "ipython3",
   "version": "3.7.7"
  }
 },
 "nbformat": 4,
 "nbformat_minor": 4
}
