{
 "cells": [
  {
   "cell_type": "markdown",
   "metadata": {},
   "source": [
    "# Algorithms and Data Structures\n",
    "Nathan Sharp | October 2020\n",
    "***\n",
    "\n",
    "# Lecture 7: Lower Bounds on Sorting Algorithms "
   ]
  },
  {
   "cell_type": "markdown",
   "metadata": {},
   "source": [
    "## Comparision Based Sorting Algorithms"
   ]
  },
  {
   "cell_type": "markdown",
   "metadata": {},
   "source": [
    "- self explainitory mechanisim, uses comparison operations between elements to sort\n",
    "- most simple kinds of sorting algorithms\n",
    "- everything comes down to the sorting tree\n",
    "\n",
    "_Simplifying Assumption:_ no elements are equal (the lower bound for this special case will hold for general case as the worst case with no elements equal is at least as many comparisons as with equal elements)"
   ]
  },
  {
   "cell_type": "markdown",
   "metadata": {},
   "source": [
    "###### __THEOREM__ \n",
    "For all compraison based sorting algorithms $C_s(n) \\in \\Omega(n \\, \\log(n))$ ($C_s(n)$ is the number of comparison operations)"
   ]
  },
  {
   "cell_type": "markdown",
   "metadata": {},
   "source": [
    "###### __PROOF__\n",
    "Note: The following proof used uses the _Decision-Tree Model_ of sorting to produce an _Information-Theoretic_ lower bound.\n",
    "\n",
    "Input can encode n! permutations, and hence also n! outputs.\n",
    "\n",
    "> ###### __LEMMA 1__\n",
    ">A binary tree of height $h$ has at most $2^h$ leaves\n",
    "  \n",
    "The longest path from root to leaf is the maximum number of comparrisons that algorithm $S$ will do on an input of length $n$. \n",
    "\n",
    "> ###### __COROLLARY 1__\n",
    "> $C_s(n)$ is the hight of the binary decision tree of $S$ on input $n$. ($C_s(n) = h$)\n",
    "\n",
    "\n",
    "By _lemma 1_ the decision tree on inputs of size $n$ has at least $n!$ leaves,\n",
    "\n",
    "\n",
    "\n",
    "$$\n",
    "\\begin{align*}\n",
    "n!     & \\leq \\text{ num leaves of decision tree } \\\\\n",
    "       & \\leq 2^h \\\\\n",
    "       & \\leq 2^{C_s(n)} \\\\\n",
    "C_s(n) & \\geq \\log(n!)\n",
    "\\end{align*}\n",
    "$$\n",
    "\n",
    "Using the inequality $n^{n/2} \\leq n! \\leq n^n$\n",
    "\n",
    "$$\n",
    "\\begin{align*}\n",
    "C_s(n) \\geq lg(n!) & \\geq \\log(n^{n/2}) \\\\\n",
    "                   & = n/2 \\log(n)\n",
    "\\end{align*}\n",
    "$$\n",
    "\n",
    "Hence, \n",
    "$$ \\underline{C_s(n) \\in \\Omega(n \\, \\log(n))}$$"
   ]
  },
  {
   "cell_type": "markdown",
   "metadata": {},
   "source": [
    "## Avegrage Case Lower Bound\n",
    "---"
   ]
  },
  {
   "cell_type": "markdown",
   "metadata": {},
   "source": [
    "###### __THEOREM__\n",
    "For all comparison base sorting algorithms, we have the average number of comparison operations ( average root-leaf length in the binary decision tree)\n",
    "$$ A_s(n) \\in \\Omega(n \\log(n))$$"
   ]
  },
  {
   "cell_type": "markdown",
   "metadata": {},
   "source": [
    "###### __PROOF__\n",
    "\n",
    ">###### __COROLLARY 1__\n",
    ">The average case runtime for any comparison based sorting algorithm is $ A_s(n) \\in \\Omega(n \\log(n))$\n",
    "\n",
    "Let $AvgRL(T)$ denote the average root-to-leaf length  of a binary tree.\n",
    "\n",
    ">###### __DEFINITION 1__\n",
    "__Near Complte Binary Tree T__ is a binary tree in which everyinternal node has exactly two child nodes and allleaves are at depth $h$ or $h-1$\n",
    "\n",
    "> ###### __THEOREM 1__ \n",
    "> Any _near-complete binary tree_ with leaf set $L(T) \\,\\, (|(L(T)| \\geq 4)$, has $AvgRL(T) \\geq \\log(|L(T)| / 2)$. \n",
    "> ###### __PROOF__ \n",
    "> $\\log(|L(T)|/2) = \\log(|L(T)|) -1$\n",
    "\n",
    "\n",
    "> ###### __THEOREM 2__\n",
    "> For any binary tree $T'$, there is a near complete binary tree $T'$ such that $L(T) = L(T')$ with the same leaf set such that $AvgRL(T) \\leq AvgRL(T')$. Hence $AvgRL(T) \\geq \\log(|L(T)|/2)$ holds for all binary trees.\n",
    "\n",
    "Hence, any binary tree can be rebalanced to a near-complete binary tree with has $AvgRL \\in maxR \\, \\, (\\in \\Omega(n \\log(n))$.\n",
    "\n",
    "Therefore we can conclude \n",
    "$$ \\underline{A_s(n) \\in \\Omega(n \\log(n))}$$"
   ]
  }
 ],
 "metadata": {
  "kernelspec": {
   "display_name": "Python3 - python",
   "language": "python",
   "name": "ipython_python"
  },
  "language_info": {
   "codemirror_mode": {
    "name": "ipython",
    "version": 3
   },
   "file_extension": ".py",
   "mimetype": "text/x-python",
   "name": "python",
   "nbconvert_exporter": "python",
   "pygments_lexer": "ipython3",
   "version": "3.7.7"
  }
 },
 "nbformat": 4,
 "nbformat_minor": 4
}
