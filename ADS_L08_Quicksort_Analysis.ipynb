{
 "cells": [
  {
   "cell_type": "markdown",
   "metadata": {},
   "source": [
    "# Algorithms and Data Structures\n",
    "Nathan Sharp | October 2020\n",
    "***\n",
    "\n",
    "# Lecture 8: Quicksort Analysis"
   ]
  },
  {
   "cell_type": "code",
   "execution_count": 2,
   "metadata": {},
   "outputs": [
    {
     "data": {
      "text/plain": [
       "[0, 1, 2, 3, 5, 7, 8, 10]"
      ]
     },
     "execution_count": 2,
     "metadata": {},
     "output_type": "execute_result"
    }
   ],
   "source": [
    "def quicksort(A):\n",
    "    if len(A) > 1:\n",
    "        m = partition(A)\n",
    "\n",
    "        return quicksort(A[:m]) + quicksort(A[m:])\n",
    "\n",
    "    else:\n",
    "        return A\n",
    "    \n",
    "def partition(A):\n",
    "    pivot = A[-1]\n",
    "    m = 0\n",
    "\n",
    "    for i in range(len(A) - 1):\n",
    "        if A[i] < pivot:\n",
    "            A[i], A[m] = A[m], A[i]\n",
    "            m += 1\n",
    "\n",
    "        else:\n",
    "            continue\n",
    "\n",
    "    # return the pivot to its correct position\n",
    "    A[m], A[len(A)-1] = A[len(A)-1], A[m]\n",
    "\n",
    "    return m\n",
    "\n",
    "# Example\n",
    "quicksort([1,3,5,7,2,8,0,10])"
   ]
  },
  {
   "cell_type": "markdown",
   "metadata": {},
   "source": [
    "## Worst Case Runtime (Number of Comparisions)\n",
    "---"
   ]
  },
  {
   "cell_type": "markdown",
   "metadata": {},
   "source": [
    "`partition` does exactly n-1 comparisions for every input of size $n$\n",
    "\n",
    "Recursive calls give the reccurence, \n",
    "\n",
    "$$C(n) = \n",
    "\\begin{cases}\n",
    "0 & \\text{ if } n \\geq 1 \\\\\n",
    "max_{1 \\leq k \\leq n} (C(k-1 + C(n-k)) + (n-1) & \\text{ if } n \\geq 2\n",
    "\\end{cases}\n",
    "$$\n",
    "\n",
    "Intuition: The worst case seems to be $k=1$ or $k=n$-- everythin falls on one side of the partition"
   ]
  },
  {
   "cell_type": "markdown",
   "metadata": {},
   "source": [
    "### Lower Bound"
   ]
  },
  {
   "cell_type": "markdown",
   "metadata": {},
   "source": [
    "consider an already sorted array. On every iteration we split into one array of length $(n-1)$ and one of length $0$. \n",
    "\n",
    "$$\n",
    "\\begin{aligned}\n",
    "C(n) & \\geq C(n-1) + (n-1) \\\\\n",
    "     & \\geq C(n-2) + (n-2) + (n-1) \\\\\n",
    "     & \\vdots \\\\\n",
    "     & \\geq \\sum_{i=1}^{n-1} = \\frac{1}{2}n(-1)\n",
    "\\end{aligned}\n",
    "$$\n",
    "\n",
    "Hence\n",
    "\n",
    "$$\\underline{C(n) \\in \\Omega(n^2)}$$"
   ]
  },
  {
   "cell_type": "markdown",
   "metadata": {},
   "source": [
    "### Upper Bound"
   ]
  },
  {
   "cell_type": "markdown",
   "metadata": {},
   "source": [
    "A bit harder as you have to consider all the possible inputs by inductoins on $n$ using the recurrence. Case distinction whether $k \\geq n/2$\n",
    "\n",
    "- confused.com, dont really understand, I'm sure its in CLRS\n",
    "\n",
    "For now just take for granted\n",
    "\n",
    "$$\\underline{C(n) \\in O(n^2)}$$\n"
   ]
  },
  {
   "cell_type": "markdown",
   "metadata": {},
   "source": [
    "## Best Case Runtime\n",
    "---"
   ]
  },
  {
   "cell_type": "markdown",
   "metadata": {},
   "source": [
    "Intuitivly, the best case (of the recurrence) occurs when array is partitioned evenly, \n",
    "\n",
    "$$ B(n) \\approx 2B(n/2) + \\Theta (n)$$\n",
    "\n",
    "which imples (using the master theorem), \n",
    "\n",
    "$$\\underline{B(n) = \\Theta(n \\log(n))}$$"
   ]
  },
  {
   "cell_type": "markdown",
   "metadata": {},
   "source": [
    "## Average Case Runtime\n",
    "---"
   ]
  },
  {
   "cell_type": "markdown",
   "metadata": {},
   "source": [
    "Average case occur when all inputs (and hence partitions) are equally likely.\n",
    "\n",
    "Intuition: Average cae is closer to the best cae than the worst case because only repeatedly very unbalanced partitions leasd to the worst case.\n",
    "\n",
    "$$A(n) = \n",
    "\\begin{cases}\n",
    "0 & \\text{ if } n \\geq 1 \\\\\n",
    "\\sum_{k=1}{n} \\frac{1}{n} (A(k-1 + A(n-k)) + (n-1) & \\text{ if } n \\geq 2\n",
    "\\end{cases}\n",
    "$$\n",
    "\n",
    "Solution\n",
    "\n",
    "$$\\underline{A(n) \\approx 2 n \\log(n)}$$\n",
    "\n",
    "- detailed proof of $A(n) \\leq 2 \\log(n) (n+1)$ in lecture notes by induction."
   ]
  },
  {
   "cell_type": "markdown",
   "metadata": {},
   "source": [
    "## Possible Impovements to Quicksort"
   ]
  },
  {
   "cell_type": "markdown",
   "metadata": {},
   "source": [
    "- use insertion sort for small arrays\n",
    "- median of three (first,mid,last) partitioning"
   ]
  },
  {
   "cell_type": "code",
   "execution_count": null,
   "metadata": {},
   "outputs": [],
   "source": []
  }
 ],
 "metadata": {
  "kernelspec": {
   "display_name": "Python3 - python",
   "language": "python",
   "name": "ipython_python"
  },
  "language_info": {
   "codemirror_mode": {
    "name": "ipython",
    "version": 3
   },
   "file_extension": ".py",
   "mimetype": "text/x-python",
   "name": "python",
   "nbconvert_exporter": "python",
   "pygments_lexer": "ipython3",
   "version": "3.7.7"
  }
 },
 "nbformat": 4,
 "nbformat_minor": 4
}
